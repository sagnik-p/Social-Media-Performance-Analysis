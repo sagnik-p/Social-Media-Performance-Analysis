{
 "cells": [
  {
   "metadata": {},
   "cell_type": "markdown",
   "source": [
    "# The SuperMind Hackathon\n",
    "\n",
    "\n",
    "## Sagnik Pramanik\n",
    "##### sagnikpramanik95@gmail.com"
   ],
   "id": "dc3fcf5486a58fb8"
  },
  {
   "metadata": {},
   "cell_type": "markdown",
   "source": "Importing everything we need: langchain components and astradb handler, utils such as os, dotenv and csv for reading csv files",
   "id": "ce4698a8cd2699bc"
  },
  {
   "cell_type": "code",
   "id": "initial_id",
   "metadata": {
    "collapsed": true,
    "ExecuteTime": {
     "end_time": "2025-01-05T17:26:03.188589Z",
     "start_time": "2025-01-05T17:26:03.173376Z"
    }
   },
   "source": [
    "import os\n",
    "import csv\n",
    "from langchain_openai import OpenAI\n",
    "from langchain.prompts import PromptTemplate\n",
    "from langchain_google_genai import ChatGoogleGenerativeAI\n",
    "from dotenv import load_dotenv\n",
    "from astrapy import DataAPIClient\n",
    "from langchain.schema import StrOutputParser\n",
    "from langchain.schema.runnable import RunnablePassthrough"
   ],
   "outputs": [],
   "execution_count": 2
  },
  {
   "metadata": {},
   "cell_type": "markdown",
   "source": "Load the env variables and declare the dataset path",
   "id": "c20da885e984ab10"
  },
  {
   "metadata": {
    "ExecuteTime": {
     "end_time": "2025-01-05T17:30:10.408773Z",
     "start_time": "2025-01-05T17:30:10.398286Z"
    }
   },
   "cell_type": "code",
   "source": [
    "load_dotenv()\n",
    "\n",
    "# Retrieve Astra DB credentials and settings from environment variables\n",
    "ASTRA_TOKEN = os.getenv(\"ASTRA_TOKEN\")\n",
    "ASTRA_DB_URL = os.getenv(\"ASTRA_DB_URL\")\n",
    "COLLECTION_NAME = os.getenv(\"COLLECTION_NAME\")\n",
    "file_path=\"./dataset2.csv\""
   ],
   "id": "19428833e6fcc6f1",
   "outputs": [],
   "execution_count": 10
  },
  {
   "metadata": {},
   "cell_type": "markdown",
   "source": "Now, we connect to the DB\n",
   "id": "b6e9f146910ad4ab"
  },
  {
   "metadata": {
    "ExecuteTime": {
     "end_time": "2025-01-05T17:26:14.472500Z",
     "start_time": "2025-01-05T17:26:14.444533Z"
    }
   },
   "cell_type": "code",
   "source": [
    "client = DataAPIClient(ASTRA_TOKEN)\n",
    "db = client.get_database_by_api_endpoint(ASTRA_DB_URL)"
   ],
   "id": "af730672f4fb9bac",
   "outputs": [],
   "execution_count": 4
  },
  {
   "metadata": {},
   "cell_type": "markdown",
   "source": "Creating a new collection if it does not exist already",
   "id": "ab662c42dcbea8"
  },
  {
   "metadata": {
    "ExecuteTime": {
     "end_time": "2025-01-05T17:31:03.506910Z",
     "start_time": "2025-01-05T17:30:44.882853Z"
    }
   },
   "cell_type": "code",
   "source": [
    "if COLLECTION_NAME not in db.list_collection_names():\n",
    "    db.create_collection(COLLECTION_NAME)\n",
    "    print(\"Created Collection\")\n",
    "else:\n",
    "    print(\"Collection already exists\")"
   ],
   "id": "8b112b0bce0a5fb3",
   "outputs": [
    {
     "name": "stdout",
     "output_type": "stream",
     "text": [
      "Created Collection\n"
     ]
    }
   ],
   "execution_count": 11
  },
  {
   "metadata": {},
   "cell_type": "markdown",
   "source": "Now, we read the rows from the dataset and then feed it to the database one by one",
   "id": "3464ce0e770eabb3"
  },
  {
   "metadata": {
    "ExecuteTime": {
     "end_time": "2025-01-05T17:31:37.827048Z",
     "start_time": "2025-01-05T17:31:07.107569Z"
    }
   },
   "cell_type": "code",
   "source": [
    "collection = db.get_collection(COLLECTION_NAME)\n",
    "try:\n",
    "    with open(file_path, mode='r') as file:\n",
    "        csv_reader = csv.DictReader(file)\n",
    "        c=1\n",
    "        for row in csv_reader:\n",
    "            # Prepare document to insert into the collection\n",
    "            document = {\n",
    "                \"post_id\": row[\"post_id\"],\n",
    "                \"day_of_posting\": row[\"day_of_posting\"],\n",
    "                \"date_of_posting\": row[\"date_of_posting\"],\n",
    "                \"time_of_posting\": row[\"time_of_posting\"],\n",
    "                \"post_type\": row[\"post_type\"],\n",
    "                \"likes\": int(row[\"likes\"]),\n",
    "                \"comments\": int(row[\"comments\"]),\n",
    "                \"shares\": int(row[\"shares\"]),\n",
    "                \"repost\": int(row[\"repost\"]),\n",
    "                \"gender\": row[\"gender\"],\n",
    "                \"hashtags\": row[\"hashtags\"].split(\",\") if row[\"hashtags\"].strip() else []\n",
    "            }\n",
    "\n",
    "            # Insert into the collection\n",
    "            collection.insert_one(document)\n",
    "            print(\"Processed row {}\".format(c))\n",
    "            c+=1\n",
    "\n",
    "        print(\"Data successfully inserted into the database.\")\n",
    "except FileNotFoundError:\n",
    "    print(f\"Error: File '{file_path}' not found.\")\n",
    "except KeyError as e:\n",
    "    print(f\"Error: Missing required column in the file: {e}\")\n",
    "except ValueError as e:\n",
    "    print(f\"Error: Invalid data format: {e}\")\n",
    "except Exception as e:\n",
    "    print(f\"An error occurred: {e}\")"
   ],
   "id": "151eb6e50e67ff8c",
   "outputs": [
    {
     "name": "stdout",
     "output_type": "stream",
     "text": [
      "Processed row 1\n",
      "Processed row 2\n",
      "Processed row 3\n",
      "Processed row 4\n",
      "Processed row 5\n",
      "Processed row 6\n",
      "Processed row 7\n",
      "Processed row 8\n",
      "Processed row 9\n",
      "Processed row 10\n",
      "Processed row 11\n",
      "Processed row 12\n",
      "Processed row 13\n",
      "Processed row 14\n",
      "Processed row 15\n",
      "Processed row 16\n",
      "Processed row 17\n",
      "Processed row 18\n",
      "Processed row 19\n",
      "Processed row 20\n",
      "Processed row 21\n",
      "Processed row 22\n",
      "Processed row 23\n",
      "Processed row 24\n",
      "Processed row 25\n",
      "Processed row 26\n",
      "Processed row 27\n",
      "Processed row 28\n",
      "Processed row 29\n",
      "Processed row 30\n",
      "Processed row 31\n",
      "Processed row 32\n",
      "Processed row 33\n",
      "Processed row 34\n",
      "Processed row 35\n",
      "Processed row 36\n",
      "Processed row 37\n",
      "Processed row 38\n",
      "Processed row 39\n",
      "Processed row 40\n",
      "Processed row 41\n",
      "Processed row 42\n",
      "Processed row 43\n",
      "Processed row 44\n",
      "Processed row 45\n",
      "Processed row 46\n",
      "Processed row 47\n",
      "Processed row 48\n",
      "Processed row 49\n",
      "Processed row 50\n",
      "Processed row 51\n",
      "Processed row 52\n",
      "Processed row 53\n",
      "Processed row 54\n",
      "Processed row 55\n",
      "Processed row 56\n",
      "Processed row 57\n",
      "Processed row 58\n",
      "Processed row 59\n",
      "Processed row 60\n",
      "Processed row 61\n",
      "Processed row 62\n",
      "Processed row 63\n",
      "Processed row 64\n",
      "Processed row 65\n",
      "Processed row 66\n",
      "Processed row 67\n",
      "Processed row 68\n",
      "Processed row 69\n",
      "Processed row 70\n",
      "Processed row 71\n",
      "Processed row 72\n",
      "Processed row 73\n",
      "Processed row 74\n",
      "Processed row 75\n",
      "Processed row 76\n",
      "Processed row 77\n",
      "Processed row 78\n",
      "Processed row 79\n",
      "Processed row 80\n",
      "Processed row 81\n",
      "Processed row 82\n",
      "Processed row 83\n",
      "Processed row 84\n",
      "Processed row 85\n",
      "Processed row 86\n",
      "Processed row 87\n",
      "Processed row 88\n",
      "Processed row 89\n",
      "Processed row 90\n",
      "Processed row 91\n",
      "Processed row 92\n",
      "Processed row 93\n",
      "Processed row 94\n",
      "Processed row 95\n",
      "Processed row 96\n",
      "Processed row 97\n",
      "Processed row 98\n",
      "Processed row 99\n",
      "Processed row 100\n",
      "Data successfully inserted into the database.\n"
     ]
    }
   ],
   "execution_count": 12
  },
  {
   "metadata": {},
   "cell_type": "markdown",
   "source": "### Lets check what is inside the DB",
   "id": "3f1067944fcc1271"
  },
  {
   "metadata": {
    "ExecuteTime": {
     "end_time": "2025-01-05T17:31:59.566018Z",
     "start_time": "2025-01-05T17:31:56.918238Z"
    }
   },
   "cell_type": "code",
   "source": [
    "try:\n",
    "    data = collection.find()\n",
    "    data= [doc for doc in data]\n",
    "    print(data)\n",
    "except Exception as e:\n",
    "    print(f\"Error retrieving data from Astra DB: {e}\")"
   ],
   "id": "98e47be83b1367b2",
   "outputs": [
    {
     "name": "stdout",
     "output_type": "stream",
     "text": [
      "[{'_id': '9b3aa4c8-5eb5-4a57-baa4-c85eb5ca576c', 'post_id': '0000000000000066', 'day_of_posting': 'Wednesday', 'date_of_posting': '2024-10-27', 'time_of_posting': '12:00:00', 'post_type': 'reels', 'likes': 220, 'comments': 50, 'shares': 30, 'repost': 15, 'gender': 'M', 'hashtags': ['#AI']}, {'_id': 'eb6e4102-3094-4770-ae41-023094e7704f', 'post_id': '0000000000000049', 'day_of_posting': 'Sunday', 'date_of_posting': '2024-11-13', 'time_of_posting': '13:00:00', 'post_type': 'video-carousel', 'likes': 200, 'comments': 45, 'shares': 22, 'repost': 11, 'gender': 'M', 'hashtags': ['#Fitness']}, {'_id': '54df00b0-595d-4129-9f00-b0595d3129db', 'post_id': '0000000000000029', 'day_of_posting': 'Monday', 'date_of_posting': '2024-12-03', 'time_of_posting': '16:30:00', 'post_type': 'video-carousel', 'likes': 200, 'comments': 45, 'shares': 23, 'repost': 11, 'gender': 'M', 'hashtags': ['#Tech']}, {'_id': '753ff794-b0f6-4dd6-bff7-94b0f67dd6fd', 'post_id': '0000000000000013', 'day_of_posting': 'Saturday', 'date_of_posting': '2024-12-19', 'time_of_posting': '11:00:00', 'post_type': 'static-images', 'likes': 70, 'comments': 18, 'shares': 9, 'repost': 4, 'gender': 'M', 'hashtags': []}, {'_id': '60ef5226-cadc-438c-af52-26cadcc38cbd', 'post_id': '0000000000000075', 'day_of_posting': 'Friday', 'date_of_posting': '2024-10-18', 'time_of_posting': '11:00:00', 'post_type': 'carousel', 'likes': 100, 'comments': 20, 'shares': 10, 'repost': 5, 'gender': 'F', 'hashtags': ['#Health']}, {'_id': '05875bf3-f375-47fc-875b-f3f37547fc54', 'post_id': '0000000000000033', 'day_of_posting': 'Friday', 'date_of_posting': '2024-11-29', 'time_of_posting': '10:00:00', 'post_type': 'static-images', 'likes': 70, 'comments': 16, 'shares': 8, 'repost': 3, 'gender': 'M', 'hashtags': []}, {'_id': '0cc33195-9b44-41b4-8331-959b44b1b459', 'post_id': '0000000000000008', 'day_of_posting': 'Monday', 'date_of_posting': '2024-12-24', 'time_of_posting': '08:00:00', 'post_type': 'static-images', 'likes': 55, 'comments': 12, 'shares': 6, 'repost': 2, 'gender': 'F', 'hashtags': []}, {'_id': '13a9fd07-590b-46f0-a9fd-07590b46f045', 'post_id': '0000000000000004', 'day_of_posting': 'Thursday', 'date_of_posting': '2024-12-28', 'time_of_posting': '09:00:00', 'post_type': 'video-carousel', 'likes': 180, 'comments': 40, 'shares': 20, 'repost': 10, 'gender': 'F', 'hashtags': ['#Fitness']}, {'_id': 'e7b8b8ed-8113-4355-b8b8-ed811353553d', 'post_id': '0000000000000077', 'day_of_posting': 'Sunday', 'date_of_posting': '2024-10-16', 'time_of_posting': '10:30:00', 'post_type': 'static-images', 'likes': 80, 'comments': 18, 'shares': 9, 'repost': 4, 'gender': 'F', 'hashtags': []}, {'_id': '5afff25a-9360-4708-bff2-5a9360a70870', 'post_id': '0000000000000051', 'day_of_posting': 'Tuesday', 'date_of_posting': '2024-11-11', 'time_of_posting': '10:00:00', 'post_type': 'reels', 'likes': 240, 'comments': 55, 'shares': 30, 'repost': 15, 'gender': 'F', 'hashtags': ['#Tech']}, {'_id': 'ad6f71d4-8fd5-47ae-af71-d48fd557aed8', 'post_id': '0000000000000063', 'day_of_posting': 'Sunday', 'date_of_posting': '2024-10-30', 'time_of_posting': '12:30:00', 'post_type': 'video-carousel', 'likes': 210, 'comments': 45, 'shares': 22, 'repost': 12, 'gender': 'F', 'hashtags': ['#Movies']}, {'_id': '10bb9b25-9952-4d9c-bb9b-259952fd9c70', 'post_id': '0000000000000018', 'day_of_posting': 'Thursday', 'date_of_posting': '2024-12-14', 'time_of_posting': '11:45:00', 'post_type': 'static-images', 'likes': 80, 'comments': 17, 'shares': 9, 'repost': 4, 'gender': 'F', 'hashtags': []}, {'_id': '11e6a4d7-c0c8-4992-a6a4-d7c0c86992de', 'post_id': '0000000000000085', 'day_of_posting': 'Monday', 'date_of_posting': '2024-10-08', 'time_of_posting': '09:00:00', 'post_type': 'carousel', 'likes': 120, 'comments': 25, 'shares': 12, 'repost': 6, 'gender': 'F', 'hashtags': ['#DIY']}, {'_id': 'ca111e54-3d8c-4e99-911e-543d8c5e99ed', 'post_id': '0000000000000025', 'day_of_posting': 'Thursday', 'date_of_posting': '2024-12-07', 'time_of_posting': '11:00:00', 'post_type': 'mixed-carousel', 'likes': 130, 'comments': 28, 'shares': 14, 'repost': 6, 'gender': 'M', 'hashtags': ['#Photography']}, {'_id': '3db4fd87-ca7f-4172-b4fd-87ca7f1172eb', 'post_id': '0000000000000034', 'day_of_posting': 'Saturday', 'date_of_posting': '2024-11-28', 'time_of_posting': '14:15:00', 'post_type': 'video-carousel', 'likes': 190, 'comments': 42, 'shares': 20, 'repost': 10, 'gender': 'F', 'hashtags': ['#Movies']}, {'_id': '085bbb7d-9386-40aa-9bbb-7d9386d0aa5e', 'post_id': '0000000000000031', 'day_of_posting': 'Wednesday', 'date_of_posting': '2024-12-01', 'time_of_posting': '09:00:00', 'post_type': 'carousel', 'likes': 95, 'comments': 19, 'shares': 9, 'repost': 4, 'gender': 'M', 'hashtags': ['#Business']}, {'_id': 'b9c7307f-154e-4c0f-8730-7f154ebc0fbd', 'post_id': '0000000000000096', 'day_of_posting': 'Friday', 'date_of_posting': '2024-09-27', 'time_of_posting': '14:00:00', 'post_type': 'reels', 'likes': 230, 'comments': 55, 'shares': 32, 'repost': 16, 'gender': 'M', 'hashtags': ['#Food']}, {'_id': '8835ebf0-090a-457f-b5eb-f0090ae57f6f', 'post_id': '0000000000000064', 'day_of_posting': 'Monday', 'date_of_posting': '2024-10-29', 'time_of_posting': '10:00:00', 'post_type': 'mixed-carousel', 'likes': 150, 'comments': 35, 'shares': 18, 'repost': 9, 'gender': 'M', 'hashtags': ['#Sports']}, {'_id': 'b7025ed8-d3cc-407c-825e-d8d3ccc07c37', 'post_id': '0000000000000061', 'day_of_posting': 'Friday', 'date_of_posting': '2024-11-01', 'time_of_posting': '14:00:00', 'post_type': 'reels', 'likes': 250, 'comments': 60, 'shares': 35, 'repost': 18, 'gender': 'F', 'hashtags': ['#Fitness']}, {'_id': '8a2d4cce-a5d3-44d0-ad4c-cea5d314d06e', 'post_id': '0000000000000069', 'day_of_posting': 'Saturday', 'date_of_posting': '2024-10-24', 'time_of_posting': '15:00:00', 'post_type': 'mixed-carousel', 'likes': 140, 'comments': 32, 'shares': 16, 'repost': 8, 'gender': 'F', 'hashtags': ['#Tech']}, {'_id': '1f33c6c4-c196-4c04-b3c6-c4c196ec043a', 'post_id': '0000000000000095', 'day_of_posting': 'Thursday', 'date_of_posting': '2024-09-28', 'time_of_posting': '12:30:00', 'post_type': 'carousel', 'likes': 100, 'comments': 22, 'shares': 11, 'repost': 5, 'gender': 'F', 'hashtags': ['#Health']}, {'_id': '1db55979-158d-442f-b559-79158dd42f7c', 'post_id': '0000000000000005', 'day_of_posting': 'Friday', 'date_of_posting': '2024-12-27', 'time_of_posting': '11:45:00', 'post_type': 'mixed-carousel', 'likes': 140, 'comments': 30, 'shares': 16, 'repost': 8, 'gender': 'M', 'hashtags': ['#Tech']}, {'_id': '72f0e0ac-650e-447e-b0e0-ac650e947ef7', 'post_id': '0000000000000012', 'day_of_posting': 'Friday', 'date_of_posting': '2024-12-20', 'time_of_posting': '17:00:00', 'post_type': 'reels', 'likes': 240, 'comments': 50, 'shares': 28, 'repost': 14, 'gender': 'F', 'hashtags': ['#Vlog']}, {'_id': '6a2ae147-9fcb-4e35-aae1-479fcbde35a0', 'post_id': '0000000000000056', 'day_of_posting': 'Sunday', 'date_of_posting': '2024-11-06', 'time_of_posting': '14:00:00', 'post_type': 'reels', 'likes': 230, 'comments': 55, 'shares': 32, 'repost': 16, 'gender': 'M', 'hashtags': ['#Food']}, {'_id': 'd42c1ba4-295a-4961-ac1b-a4295a1961b5', 'post_id': '0000000000000070', 'day_of_posting': 'Sunday', 'date_of_posting': '2024-10-23', 'time_of_posting': '10:30:00', 'post_type': 'carousel', 'likes': 115, 'comments': 24, 'shares': 12, 'repost': 6, 'gender': 'M', 'hashtags': ['#Food']}, {'_id': 'd1a1160e-803e-4ea6-a116-0e803ebea615', 'post_id': '0000000000000054', 'day_of_posting': 'Friday', 'date_of_posting': '2024-11-08', 'time_of_posting': '12:00:00', 'post_type': 'mixed-carousel', 'likes': 130, 'comments': 30, 'shares': 16, 'repost': 8, 'gender': 'M', 'hashtags': ['#Travel']}, {'_id': '45f9f9b0-3189-4351-b9f9-b031892351e7', 'post_id': '0000000000000036', 'day_of_posting': 'Monday', 'date_of_posting': '2024-11-26', 'time_of_posting': '09:45:00', 'post_type': 'carousel', 'likes': 120, 'comments': 28, 'shares': 14, 'repost': 7, 'gender': 'F', 'hashtags': ['#Nature']}, {'_id': 'fed25e70-c2c1-4fc1-925e-70c2c19fc1d2', 'post_id': '0000000000000032', 'day_of_posting': 'Thursday', 'date_of_posting': '2024-11-30', 'time_of_posting': '13:30:00', 'post_type': 'reels', 'likes': 250, 'comments': 60, 'shares': 35, 'repost': 18, 'gender': 'F', 'hashtags': ['#Vlog']}, {'_id': '02cb4057-29d0-4077-8b40-5729d0407760', 'post_id': '0000000000000084', 'day_of_posting': 'Sunday', 'date_of_posting': '2024-10-09', 'time_of_posting': '11:00:00', 'post_type': 'mixed-carousel', 'likes': 150, 'comments': 32, 'shares': 16, 'repost': 8, 'gender': 'M', 'hashtags': ['#Sports']}, {'_id': '8a3ed593-c7c3-49d8-bed5-93c7c329d8be', 'post_id': '0000000000000046', 'day_of_posting': 'Thursday', 'date_of_posting': '2024-11-16', 'time_of_posting': '10:00:00', 'post_type': 'carousel', 'likes': 100, 'comments': 20, 'shares': 10, 'repost': 5, 'gender': 'F', 'hashtags': ['#Health']}, {'_id': '28334df0-f011-44fb-b34d-f0f01144fba6', 'post_id': '0000000000000043', 'day_of_posting': 'Monday', 'date_of_posting': '2024-11-19', 'time_of_posting': '13:00:00', 'post_type': 'static-images', 'likes': 60, 'comments': 15, 'shares': 7, 'repost': 3, 'gender': 'M', 'hashtags': []}, {'_id': '91f3a61a-e5d0-4fe0-b3a6-1ae5d0efe0f2', 'post_id': '0000000000000087', 'day_of_posting': 'Wednesday', 'date_of_posting': '2024-10-06', 'time_of_posting': '10:30:00', 'post_type': 'static-images', 'likes': 65, 'comments': 14, 'shares': 7, 'repost': 3, 'gender': 'F', 'hashtags': []}, {'_id': '6c1c430d-f94f-438c-9c43-0df94fb38ce4', 'post_id': '0000000000000065', 'day_of_posting': 'Tuesday', 'date_of_posting': '2024-10-28', 'time_of_posting': '16:30:00', 'post_type': 'carousel', 'likes': 105, 'comments': 22, 'shares': 11, 'repost': 5, 'gender': 'F', 'hashtags': ['#Nature']}, {'_id': '601db54c-717e-4a4d-9db5-4c717e1a4d70', 'post_id': '0000000000000042', 'day_of_posting': 'Sunday', 'date_of_posting': '2024-11-20', 'time_of_posting': '16:15:00', 'post_type': 'reels', 'likes': 200, 'comments': 45, 'shares': 22, 'repost': 11, 'gender': 'F', 'hashtags': ['#Adventure']}, {'_id': '84f99734-965e-48ea-b997-34965ea8ea9f', 'post_id': '0000000000000006', 'day_of_posting': 'Saturday', 'date_of_posting': '2024-12-26', 'time_of_posting': '16:00:00', 'post_type': 'carousel', 'likes': 100, 'comments': 20, 'shares': 10, 'repost': 5, 'gender': 'F', 'hashtags': ['#Fashion']}, {'_id': 'df25bee4-9460-493f-a5be-e49460f93fa5', 'post_id': '0000000000000060', 'day_of_posting': 'Thursday', 'date_of_posting': '2024-11-02', 'time_of_posting': '16:00:00', 'post_type': 'carousel', 'likes': 120, 'comments': 25, 'shares': 12, 'repost': 6, 'gender': 'M', 'hashtags': ['#Tech']}, {'_id': 'bd37a76b-7476-42ff-b7a7-6b7476a2fff4', 'post_id': '0000000000000023', 'day_of_posting': 'Tuesday', 'date_of_posting': '2024-12-09', 'time_of_posting': '14:15:00', 'post_type': 'static-images', 'likes': 75, 'comments': 18, 'shares': 9, 'repost': 4, 'gender': 'M', 'hashtags': []}, {'_id': 'b6bf00ce-f2ee-47d8-bf00-cef2ee97d809', 'post_id': '0000000000000037', 'day_of_posting': 'Tuesday', 'date_of_posting': '2024-11-25', 'time_of_posting': '11:00:00', 'post_type': 'reels', 'likes': 220, 'comments': 55, 'shares': 30, 'repost': 15, 'gender': 'M', 'hashtags': ['#AI']}, {'_id': '7b21b53e-8d21-4162-a1b5-3e8d21716294', 'post_id': '0000000000000058', 'day_of_posting': 'Tuesday', 'date_of_posting': '2024-11-04', 'time_of_posting': '12:30:00', 'post_type': 'video-carousel', 'likes': 190, 'comments': 43, 'shares': 21, 'repost': 10, 'gender': 'M', 'hashtags': ['#Music']}, {'_id': 'c7542a0a-5054-46af-942a-0a505476afb1', 'post_id': '0000000000000039', 'day_of_posting': 'Thursday', 'date_of_posting': '2024-11-23', 'time_of_posting': '10:30:00', 'post_type': 'video-carousel', 'likes': 180, 'comments': 39, 'shares': 20, 'repost': 9, 'gender': 'M', 'hashtags': ['#Fitness']}, {'_id': '5537231f-2342-4002-b723-1f2342100258', 'post_id': '0000000000000080', 'day_of_posting': 'Wednesday', 'date_of_posting': '2024-10-13', 'time_of_posting': '10:00:00', 'post_type': 'carousel', 'likes': 110, 'comments': 22, 'shares': 11, 'repost': 5, 'gender': 'M', 'hashtags': ['#Tech']}, {'_id': 'd8e6840c-9dde-461b-a684-0c9dde461bf9', 'post_id': '0000000000000081', 'day_of_posting': 'Thursday', 'date_of_posting': '2024-10-12', 'time_of_posting': '12:00:00', 'post_type': 'reels', 'likes': 250, 'comments': 60, 'shares': 35, 'repost': 18, 'gender': 'F', 'hashtags': ['#Vlog']}, {'_id': '1fec85c2-fbfe-4816-ac85-c2fbfed81661', 'post_id': '0000000000000047', 'day_of_posting': 'Friday', 'date_of_posting': '2024-11-15', 'time_of_posting': '14:00:00', 'post_type': 'reels', 'likes': 210, 'comments': 50, 'shares': 25, 'repost': 12, 'gender': 'M', 'hashtags': ['#Tech']}, {'_id': '69e13ee6-9bf0-4a80-a13e-e69bf0aa80ce', 'post_id': '0000000000000030', 'day_of_posting': 'Tuesday', 'date_of_posting': '2024-12-02', 'time_of_posting': '12:45:00', 'post_type': 'mixed-carousel', 'likes': 140, 'comments': 30, 'shares': 16, 'repost': 7, 'gender': 'F', 'hashtags': ['#Lifestyle']}, {'_id': 'cb7527bb-48b0-4367-b527-bb48b09367ce', 'post_id': '0000000000000078', 'day_of_posting': 'Monday', 'date_of_posting': '2024-10-15', 'time_of_posting': '13:00:00', 'post_type': 'video-carousel', 'likes': 200, 'comments': 45, 'shares': 23, 'repost': 11, 'gender': 'M', 'hashtags': ['#Music']}, {'_id': '6f48f2b3-c27b-4f17-88f2-b3c27bdf17a3', 'post_id': '0000000000000092', 'day_of_posting': 'Monday', 'date_of_posting': '2024-10-01', 'time_of_posting': '12:00:00', 'post_type': 'static-images', 'likes': 80, 'comments': 18, 'shares': 9, 'repost': 4, 'gender': 'M', 'hashtags': []}, {'_id': 'be6ef468-a359-472d-aef4-68a359972d13', 'post_id': '0000000000000048', 'day_of_posting': 'Saturday', 'date_of_posting': '2024-11-14', 'time_of_posting': '12:30:00', 'post_type': 'static-images', 'likes': 70, 'comments': 18, 'shares': 9, 'repost': 4, 'gender': 'F', 'hashtags': []}, {'_id': '5da3c5b6-6460-496a-a3c5-b66460b96ae4', 'post_id': '0000000000000035', 'day_of_posting': 'Sunday', 'date_of_posting': '2024-11-27', 'time_of_posting': '12:00:00', 'post_type': 'mixed-carousel', 'likes': 140, 'comments': 32, 'shares': 16, 'repost': 8, 'gender': 'M', 'hashtags': ['#Sports']}, {'_id': '3f5f76c4-6eb6-4a52-9f76-c46eb69a525a', 'post_id': '0000000000000071', 'day_of_posting': 'Monday', 'date_of_posting': '2024-10-22', 'time_of_posting': '14:45:00', 'post_type': 'reels', 'likes': 230, 'comments': 55, 'shares': 32, 'repost': 16, 'gender': 'F', 'hashtags': ['#Adventure']}, {'_id': 'b9468db2-5085-44c9-868d-b2508594c944', 'post_id': '0000000000000007', 'day_of_posting': 'Sunday', 'date_of_posting': '2024-12-25', 'time_of_posting': '13:30:00', 'post_type': 'reels', 'likes': 270, 'comments': 60, 'shares': 35, 'repost': 18, 'gender': 'M', 'hashtags': ['#Food']}, {'_id': '0cfe8c73-c881-444d-be8c-73c881e44d66', 'post_id': '0000000000000021', 'day_of_posting': 'Sunday', 'date_of_posting': '2024-12-11', 'time_of_posting': '16:00:00', 'post_type': 'carousel', 'likes': 105, 'comments': 22, 'shares': 11, 'repost': 5, 'gender': 'M', 'hashtags': ['#Food']}, {'_id': '6c4f9f87-1283-498f-8f9f-871283898f52', 'post_id': '0000000000000068', 'day_of_posting': 'Friday', 'date_of_posting': '2024-10-25', 'time_of_posting': '13:00:00', 'post_type': 'video-carousel', 'likes': 200, 'comments': 43, 'shares': 21, 'repost': 10, 'gender': 'M', 'hashtags': ['#Fitness']}, {'_id': '850696b7-6305-413d-8696-b76305a13dd9', 'post_id': '0000000000000020', 'day_of_posting': 'Saturday', 'date_of_posting': '2024-12-12', 'time_of_posting': '12:00:00', 'post_type': 'mixed-carousel', 'likes': 150, 'comments': 32, 'shares': 16, 'repost': 7, 'gender': 'F', 'hashtags': ['#Travel']}, {'_id': '05d04d3c-d399-4a90-904d-3cd3993a9072', 'post_id': '0000000000000086', 'day_of_posting': 'Tuesday', 'date_of_posting': '2024-10-07', 'time_of_posting': '14:15:00', 'post_type': 'reels', 'likes': 240, 'comments': 55, 'shares': 30, 'repost': 15, 'gender': 'M', 'hashtags': ['#Tech']}, {'_id': '4319e858-2f64-4b1f-99e8-582f644b1f6d', 'post_id': '0000000000000026', 'day_of_posting': 'Friday', 'date_of_posting': '2024-12-06', 'time_of_posting': '15:00:00', 'post_type': 'carousel', 'likes': 110, 'comments': 22, 'shares': 12, 'repost': 5, 'gender': 'F', 'hashtags': ['#Music']}, {'_id': 'e62e59f5-524b-4e36-ae59-f5524b7e3690', 'post_id': '0000000000000099', 'day_of_posting': 'Monday', 'date_of_posting': '2024-09-24', 'time_of_posting': '15:00:00', 'post_type': 'mixed-carousel', 'likes': 140, 'comments': 30, 'shares': 16, 'repost': 8, 'gender': 'F', 'hashtags': ['#Sports']}, {'_id': 'b16d7321-601b-42d0-ad73-21601b42d008', 'post_id': '0000000000000076', 'day_of_posting': 'Saturday', 'date_of_posting': '2024-10-17', 'time_of_posting': '16:00:00', 'post_type': 'reels', 'likes': 240, 'comments': 55, 'shares': 30, 'repost': 15, 'gender': 'M', 'hashtags': ['#Tech']}, {'_id': '76a8ff8f-02d8-4ca3-a8ff-8f02d8cca369', 'post_id': '0000000000000038', 'day_of_posting': 'Wednesday', 'date_of_posting': '2024-11-24', 'time_of_posting': '13:30:00', 'post_type': 'static-images', 'likes': 80, 'comments': 18, 'shares': 9, 'repost': 4, 'gender': 'F', 'hashtags': []}, {'_id': '2c682dd5-0323-4afc-a82d-d503237afc2b', 'post_id': '0000000000000062', 'day_of_posting': 'Saturday', 'date_of_posting': '2024-10-31', 'time_of_posting': '13:00:00', 'post_type': 'static-images', 'likes': 80, 'comments': 20, 'shares': 10, 'repost': 5, 'gender': 'M', 'hashtags': []}, {'_id': 'e63f7778-6e8b-4926-bf77-786e8b3926b1', 'post_id': '0000000000000016', 'day_of_posting': 'Tuesday', 'date_of_posting': '2024-12-16', 'time_of_posting': '15:00:00', 'post_type': 'carousel', 'likes': 95, 'comments': 18, 'shares': 9, 'repost': 4, 'gender': 'F', 'hashtags': ['#DIY']}, {'_id': '8f0e6347-8d96-4342-8e63-478d965342e5', 'post_id': '0000000000000082', 'day_of_posting': 'Friday', 'date_of_posting': '2024-10-11', 'time_of_posting': '16:00:00', 'post_type': 'static-images', 'likes': 70, 'comments': 15, 'shares': 8, 'repost': 4, 'gender': 'M', 'hashtags': []}, {'_id': '1c8a6520-b300-47af-8a65-20b300c7af40', 'post_id': '0000000000000041', 'day_of_posting': 'Saturday', 'date_of_posting': '2024-11-21', 'time_of_posting': '14:00:00', 'post_type': 'carousel', 'likes': 110, 'comments': 24, 'shares': 12, 'repost': 6, 'gender': 'M', 'hashtags': ['#Food']}, {'_id': '79079ea7-be17-4bde-879e-a7be17abde92', 'post_id': '0000000000000044', 'day_of_posting': 'Tuesday', 'date_of_posting': '2024-11-18', 'time_of_posting': '09:30:00', 'post_type': 'video-carousel', 'likes': 190, 'comments': 43, 'shares': 21, 'repost': 10, 'gender': 'F', 'hashtags': ['#Movies']}, {'_id': '915a58d9-97fd-4fe4-9a58-d997fd2fe4b0', 'post_id': '0000000000000011', 'day_of_posting': 'Thursday', 'date_of_posting': '2024-12-21', 'time_of_posting': '12:30:00', 'post_type': 'carousel', 'likes': 110, 'comments': 22, 'shares': 11, 'repost': 5, 'gender': 'M', 'hashtags': ['#Photography']}, {'_id': 'e910f458-b417-48b0-90f4-58b417b8b05e', 'post_id': '0000000000000027', 'day_of_posting': 'Saturday', 'date_of_posting': '2024-12-05', 'time_of_posting': '10:30:00', 'post_type': 'reels', 'likes': 230, 'comments': 55, 'shares': 32, 'repost': 16, 'gender': 'M', 'hashtags': ['#Food']}, {'_id': '317a8193-786b-4338-ba81-93786bf338df', 'post_id': '0000000000000091', 'day_of_posting': 'Sunday', 'date_of_posting': '2024-10-02', 'time_of_posting': '14:30:00', 'post_type': 'reels', 'likes': 220, 'comments': 50, 'shares': 30, 'repost': 15, 'gender': 'F', 'hashtags': ['#Fitness']}, {'_id': '3d4f4401-d236-4713-8f44-01d236c713b9', 'post_id': '0000000000000098', 'day_of_posting': 'Sunday', 'date_of_posting': '2024-09-25', 'time_of_posting': '11:30:00', 'post_type': 'video-carousel', 'likes': 200, 'comments': 43, 'shares': 21, 'repost': 10, 'gender': 'M', 'hashtags': ['#Fitness']}, {'_id': '9d180cf8-41fa-4024-980c-f841fa202445', 'post_id': '0000000000000083', 'day_of_posting': 'Saturday', 'date_of_posting': '2024-10-10', 'time_of_posting': '13:30:00', 'post_type': 'video-carousel', 'likes': 210, 'comments': 45, 'shares': 22, 'repost': 12, 'gender': 'F', 'hashtags': ['#Fitness']}, {'_id': '422a4011-9011-4eac-aa40-1190118eac1c', 'post_id': '0000000000000019', 'day_of_posting': 'Friday', 'date_of_posting': '2024-12-13', 'time_of_posting': '10:00:00', 'post_type': 'video-carousel', 'likes': 190, 'comments': 40, 'shares': 21, 'repost': 10, 'gender': 'M', 'hashtags': ['#Education']}, {'_id': '9c7d7873-3560-4e79-bd78-7335605e794b', 'post_id': '0000000000000022', 'day_of_posting': 'Monday', 'date_of_posting': '2024-12-10', 'time_of_posting': '09:30:00', 'post_type': 'reels', 'likes': 220, 'comments': 50, 'shares': 30, 'repost': 15, 'gender': 'F', 'hashtags': ['#Fitness']}, {'_id': '806dc304-8f18-4c6b-adc3-048f189c6b82', 'post_id': '0000000000000050', 'day_of_posting': 'Monday', 'date_of_posting': '2024-11-12', 'time_of_posting': '16:15:00', 'post_type': 'mixed-carousel', 'likes': 130, 'comments': 28, 'shares': 14, 'repost': 7, 'gender': 'F', 'hashtags': ['#Sports']}, {'_id': '87ae5b55-709f-4e90-ae5b-55709fbe90c5', 'post_id': '0000000000000055', 'day_of_posting': 'Saturday', 'date_of_posting': '2024-11-07', 'time_of_posting': '15:30:00', 'post_type': 'carousel', 'likes': 110, 'comments': 22, 'shares': 11, 'repost': 5, 'gender': 'F', 'hashtags': ['#Food']}, {'_id': '7e708dcc-3056-4df9-b08d-cc3056bdf9ba', 'post_id': '0000000000000017', 'day_of_posting': 'Wednesday', 'date_of_posting': '2024-12-15', 'time_of_posting': '13:30:00', 'post_type': 'reels', 'likes': 280, 'comments': 65, 'shares': 38, 'repost': 20, 'gender': 'M', 'hashtags': ['#Tech']}, {'_id': '332c2608-ca4b-477e-ac26-08ca4b977ef2', 'post_id': '0000000000000093', 'day_of_posting': 'Tuesday', 'date_of_posting': '2024-09-30', 'time_of_posting': '13:30:00', 'post_type': 'video-carousel', 'likes': 190, 'comments': 42, 'shares': 20, 'repost': 10, 'gender': 'F', 'hashtags': ['#Movies']}, {'_id': '71915272-d602-424c-9152-72d602824cb0', 'post_id': '0000000000000094', 'day_of_posting': 'Wednesday', 'date_of_posting': '2024-09-29', 'time_of_posting': '09:00:00', 'post_type': 'mixed-carousel', 'likes': 130, 'comments': 28, 'shares': 14, 'repost': 7, 'gender': 'M', 'hashtags': ['#Travel']}, {'_id': '808942c2-631e-497a-8942-c2631e997aca', 'post_id': '0000000000000100', 'day_of_posting': 'Tuesday', 'date_of_posting': '2024-09-23', 'time_of_posting': '13:00:00', 'post_type': 'carousel', 'likes': 115, 'comments': 24, 'shares': 12, 'repost': 6, 'gender': 'M', 'hashtags': ['#Tech']}, {'_id': 'a67cb8be-0be9-4163-bcb8-be0be98163d6', 'post_id': '0000000000000015', 'day_of_posting': 'Monday', 'date_of_posting': '2024-12-17', 'time_of_posting': '09:15:00', 'post_type': 'mixed-carousel', 'likes': 150, 'comments': 32, 'shares': 16, 'repost': 8, 'gender': 'M', 'hashtags': ['#Sports']}, {'_id': '6e2a30b0-5ef5-4f97-aa30-b05ef54f97dc', 'post_id': '0000000000000001', 'day_of_posting': 'Monday', 'date_of_posting': '2024-12-31', 'time_of_posting': '10:30:00', 'post_type': 'carousel', 'likes': 120, 'comments': 25, 'shares': 12, 'repost': 6, 'gender': 'M', 'hashtags': ['#Tech']}, {'_id': '05080c36-3baf-49ba-880c-363bafd9ba82', 'post_id': '0000000000000072', 'day_of_posting': 'Tuesday', 'date_of_posting': '2024-10-21', 'time_of_posting': '09:00:00', 'post_type': 'static-images', 'likes': 70, 'comments': 16, 'shares': 8, 'repost': 3, 'gender': 'M', 'hashtags': []}, {'_id': '9c719bca-a90e-4a90-b19b-caa90e7a904e', 'post_id': '0000000000000003', 'day_of_posting': 'Wednesday', 'date_of_posting': '2024-12-29', 'time_of_posting': '12:00:00', 'post_type': 'static-images', 'likes': 60, 'comments': 15, 'shares': 8, 'repost': 3, 'gender': 'M', 'hashtags': []}, {'_id': '8dc9f572-ba1e-4b11-89f5-72ba1ecb117a', 'post_id': '0000000000000014', 'day_of_posting': 'Sunday', 'date_of_posting': '2024-12-18', 'time_of_posting': '14:30:00', 'post_type': 'video-carousel', 'likes': 190, 'comments': 42, 'shares': 21, 'repost': 11, 'gender': 'F', 'hashtags': ['#Movies']}, {'_id': '87b049ba-b8f0-4589-b049-bab8f0e589eb', 'post_id': '0000000000000088', 'day_of_posting': 'Thursday', 'date_of_posting': '2024-10-05', 'time_of_posting': '13:00:00', 'post_type': 'video-carousel', 'likes': 200, 'comments': 43, 'shares': 21, 'repost': 10, 'gender': 'M', 'hashtags': ['#Health']}, {'_id': 'bbfd5585-1caa-4442-bd55-851caa74420e', 'post_id': '0000000000000002', 'day_of_posting': 'Tuesday', 'date_of_posting': '2024-12-30', 'time_of_posting': '14:15:00', 'post_type': 'reels', 'likes': 250, 'comments': 55, 'shares': 30, 'repost': 15, 'gender': 'F', 'hashtags': ['#ML']}, {'_id': '1453be71-97a5-4aa5-93be-7197a5eaa572', 'post_id': '0000000000000053', 'day_of_posting': 'Thursday', 'date_of_posting': '2024-11-09', 'time_of_posting': '13:30:00', 'post_type': 'video-carousel', 'likes': 200, 'comments': 45, 'shares': 23, 'repost': 11, 'gender': 'F', 'hashtags': ['#Fitness']}, {'_id': '00bc1212-dfcf-46ae-bc12-12dfcfc6aeca', 'post_id': '0000000000000028', 'day_of_posting': 'Sunday', 'date_of_posting': '2024-12-04', 'time_of_posting': '14:00:00', 'post_type': 'static-images', 'likes': 90, 'comments': 20, 'shares': 10, 'repost': 5, 'gender': 'F', 'hashtags': []}, {'_id': '3b0aef66-8d0f-47f6-8aef-668d0f67f65c', 'post_id': '0000000000000010', 'day_of_posting': 'Wednesday', 'date_of_posting': '2024-12-22', 'time_of_posting': '10:00:00', 'post_type': 'mixed-carousel', 'likes': 130, 'comments': 28, 'shares': 14, 'repost': 7, 'gender': 'F', 'hashtags': ['#Nature']}, {'_id': 'adf66c19-254d-4bcd-b66c-19254d8bcdf5', 'post_id': '0000000000000024', 'day_of_posting': 'Wednesday', 'date_of_posting': '2024-12-08', 'time_of_posting': '12:00:00', 'post_type': 'video-carousel', 'likes': 200, 'comments': 45, 'shares': 25, 'repost': 12, 'gender': 'F', 'hashtags': ['#Health']}, {'_id': '0ec027b8-75da-462a-8027-b875dad62a70', 'post_id': '0000000000000090', 'day_of_posting': 'Saturday', 'date_of_posting': '2024-10-03', 'time_of_posting': '16:00:00', 'post_type': 'carousel', 'likes': 110, 'comments': 24, 'shares': 12, 'repost': 6, 'gender': 'M', 'hashtags': ['#Food']}, {'_id': 'e215b63e-3537-40bc-95b6-3e353780bc75', 'post_id': '0000000000000079', 'day_of_posting': 'Tuesday', 'date_of_posting': '2024-10-14', 'time_of_posting': '14:30:00', 'post_type': 'mixed-carousel', 'likes': 140, 'comments': 30, 'shares': 16, 'repost': 8, 'gender': 'F', 'hashtags': ['#Nature']}, {'_id': '8f73e979-1446-4a4b-b3e9-7914464a4bb3', 'post_id': '0000000000000052', 'day_of_posting': 'Wednesday', 'date_of_posting': '2024-11-10', 'time_of_posting': '14:15:00', 'post_type': 'static-images', 'likes': 65, 'comments': 14, 'shares': 7, 'repost': 3, 'gender': 'M', 'hashtags': []}, {'_id': '364ff705-7e28-4b3c-8ff7-057e289b3c74', 'post_id': '0000000000000045', 'day_of_posting': 'Wednesday', 'date_of_posting': '2024-11-17', 'time_of_posting': '12:45:00', 'post_type': 'mixed-carousel', 'likes': 140, 'comments': 32, 'shares': 16, 'repost': 8, 'gender': 'M', 'hashtags': ['#Travel']}, {'_id': 'fe4364d3-4e3e-4bad-8364-d34e3e5bad54', 'post_id': '0000000000000089', 'day_of_posting': 'Friday', 'date_of_posting': '2024-10-04', 'time_of_posting': '11:45:00', 'post_type': 'mixed-carousel', 'likes': 140, 'comments': 32, 'shares': 16, 'repost': 8, 'gender': 'F', 'hashtags': ['#Tech']}, {'_id': '639db075-2656-463f-9db0-752656663f73', 'post_id': '0000000000000059', 'day_of_posting': 'Wednesday', 'date_of_posting': '2024-11-03', 'time_of_posting': '09:15:00', 'post_type': 'mixed-carousel', 'likes': 140, 'comments': 32, 'shares': 16, 'repost': 8, 'gender': 'F', 'hashtags': ['#Health']}, {'_id': '5144b19e-ee39-432f-84b1-9eee39632f8c', 'post_id': '0000000000000057', 'day_of_posting': 'Monday', 'date_of_posting': '2024-11-05', 'time_of_posting': '10:45:00', 'post_type': 'static-images', 'likes': 75, 'comments': 18, 'shares': 9, 'repost': 4, 'gender': 'F', 'hashtags': []}, {'_id': 'a815a9cb-f879-4298-95a9-cbf8794298da', 'post_id': '0000000000000009', 'day_of_posting': 'Tuesday', 'date_of_posting': '2024-12-23', 'time_of_posting': '14:00:00', 'post_type': 'video-carousel', 'likes': 210, 'comments': 45, 'shares': 22, 'repost': 12, 'gender': 'M', 'hashtags': ['#Music']}, {'_id': '37179f49-9ec6-4987-979f-499ec629875c', 'post_id': '0000000000000067', 'day_of_posting': 'Thursday', 'date_of_posting': '2024-10-26', 'time_of_posting': '14:15:00', 'post_type': 'static-images', 'likes': 60, 'comments': 14, 'shares': 8, 'repost': 4, 'gender': 'F', 'hashtags': []}, {'_id': 'f089c072-c82d-412e-89c0-72c82da12eb7', 'post_id': '0000000000000073', 'day_of_posting': 'Wednesday', 'date_of_posting': '2024-10-20', 'time_of_posting': '12:00:00', 'post_type': 'video-carousel', 'likes': 190, 'comments': 42, 'shares': 20, 'repost': 10, 'gender': 'F', 'hashtags': ['#Movies']}, {'_id': '81796276-af99-4636-b962-76af9956366f', 'post_id': '0000000000000097', 'day_of_posting': 'Saturday', 'date_of_posting': '2024-09-26', 'time_of_posting': '10:00:00', 'post_type': 'static-images', 'likes': 75, 'comments': 18, 'shares': 9, 'repost': 4, 'gender': 'F', 'hashtags': []}, {'_id': '019f4b3b-8523-4138-9f4b-3b85230138d9', 'post_id': '0000000000000040', 'day_of_posting': 'Friday', 'date_of_posting': '2024-11-22', 'time_of_posting': '12:00:00', 'post_type': 'mixed-carousel', 'likes': 130, 'comments': 30, 'shares': 15, 'repost': 7, 'gender': 'F', 'hashtags': ['#Tech']}, {'_id': 'd7e4f777-6e74-4093-a4f7-776e741093a1', 'post_id': '0000000000000074', 'day_of_posting': 'Thursday', 'date_of_posting': '2024-10-19', 'time_of_posting': '13:30:00', 'post_type': 'mixed-carousel', 'likes': 130, 'comments': 28, 'shares': 14, 'repost': 7, 'gender': 'M', 'hashtags': ['#Travel']}]\n"
     ]
    }
   ],
   "execution_count": 13
  },
  {
   "metadata": {},
   "cell_type": "markdown",
   "source": "# Option 1: OpenAI",
   "id": "b52faca04b803439"
  },
  {
   "metadata": {
    "ExecuteTime": {
     "end_time": "2025-01-05T17:28:06.503085Z",
     "start_time": "2025-01-05T17:28:06.434074Z"
    }
   },
   "cell_type": "code",
   "source": [
    "llm = OpenAI(model=\"gpt-3.5-turbo-instruct\",openai_api_key=os.getenv(\"OPENAI_API_KEY\"))\n",
    "prompt_template = (\n",
    "    \"Here is the entire dataset: {data}.\"\n",
    "    \"Summarize the key trends, patterns only without providing row-by-row details.\"\n",
    "    \"For example, One trend could be 'Posts by females receive 46% more likes compared to posts by male'. Similarly generate more insights from the data and use Numbers\"\n",
    "    \"Finally, the output should be a list of trends/insights. do not self genererate anything else and no suggestions.\"\n",
    "    \"Generate as many trends as possible, using all columns of the data\"\n",
    ")\n",
    "prompt = PromptTemplate(input_variables=[\"data\"], template=prompt_template)\n",
    "chain = (\n",
    "    {\"data\": RunnablePassthrough()}\n",
    "    | prompt\n",
    "    | llm\n",
    "    | StrOutputParser()\n",
    ")\n"
   ],
   "id": "e2ebb76dcd11aaab",
   "outputs": [],
   "execution_count": 8
  },
  {
   "metadata": {},
   "cell_type": "markdown",
   "source": "# Option 2: Google Gemini",
   "id": "ee968c133ac45637"
  },
  {
   "metadata": {
    "ExecuteTime": {
     "end_time": "2025-01-05T17:32:19.237451Z",
     "start_time": "2025-01-05T17:32:19.165160Z"
    }
   },
   "cell_type": "code",
   "source": [
    "llm = ChatGoogleGenerativeAI(model=\"gemini-1.5-flash\", google_api_key=os.getenv(\"GEMINI_API_KEY\"))\n",
    "prompt_template = (\n",
    "    \"Here is the entire dataset: {data}. \"\n",
    "    \"Identify patterns, trends, and insights from this dataset. \"\n",
    "    \"Summarize the key trends only without providing row-by-row details.\"\n",
    "    \"For example, One trend could be 'Posts by females receive 46% more likes compared to posts by male'. similarly generate more insights from the data and use Numbers to further strengthen the trends.\"\n",
    "    \"Finally, the output should be a list of trends and insights from the data. do not genererate anything else, no suggestions.\"\n",
    "    \"Generate as many trends as possible, including all columns of the data, except the _id and post_id.\"\n",
    "    \"One of the trends could be to show the correlation between posts at different times and the engagement\"\n",
    ")\n",
    "prompt = PromptTemplate(input_variables=[\"data\"], template=prompt_template)\n",
    "chain = (\n",
    "    {\"data\": RunnablePassthrough()}\n",
    "    | prompt\n",
    "    | llm\n",
    "    | StrOutputParser()\n",
    ")"
   ],
   "id": "ba88344e98e1c144",
   "outputs": [],
   "execution_count": 14
  },
  {
   "metadata": {
    "ExecuteTime": {
     "end_time": "2025-01-05T17:32:24.766917Z",
     "start_time": "2025-01-05T17:32:20.902272Z"
    }
   },
   "cell_type": "code",
   "source": [
    "trends = chain.invoke(str(data))\n",
    "print(trends)"
   ],
   "id": "1a5cc33e67402f5b",
   "outputs": [
    {
     "name": "stdout",
     "output_type": "stream",
     "text": [
      "* Reels and video-carousel posts receive significantly more likes (average over 200) than static-images and carousel posts (average under 120).\n",
      "\n",
      "* Female users tend to have a higher average number of likes, comments, shares, and reposts compared to male users.\n",
      "\n",
      "* Posts with hashtags receive substantially more engagement (likes, comments, shares, and reposts) than posts without hashtags.\n",
      "\n",
      "* There's a weak positive correlation between the time of posting and engagement; posts made between 10:00 AM and 2:00 PM tend to have higher engagement metrics.\n",
      "\n",
      "*  The most frequent day of posting is Friday and Sunday.\n",
      "\n",
      "* \"#Fitness\" and \"#Tech\" are the most frequently used hashtags.\n",
      "\n",
      "* \"Video-carousel\" is the most frequent post type.\n",
      "\n",
      "*  There is a positive correlation between likes, comments, shares, and reposts; higher likes generally correspond with higher comments, shares, and reposts.\n",
      "\n"
     ]
    }
   ],
   "execution_count": 15
  },
  {
   "metadata": {},
   "cell_type": "code",
   "outputs": [],
   "execution_count": null,
   "source": "",
   "id": "8b9ff0c75566828b"
  }
 ],
 "metadata": {
  "kernelspec": {
   "display_name": "Python 3",
   "language": "python",
   "name": "python3"
  },
  "language_info": {
   "codemirror_mode": {
    "name": "ipython",
    "version": 2
   },
   "file_extension": ".py",
   "mimetype": "text/x-python",
   "name": "python",
   "nbconvert_exporter": "python",
   "pygments_lexer": "ipython2",
   "version": "2.7.6"
  }
 },
 "nbformat": 4,
 "nbformat_minor": 5
}
