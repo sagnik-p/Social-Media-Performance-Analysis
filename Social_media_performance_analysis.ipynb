{
 "cells": [
  {
   "metadata": {},
   "cell_type": "markdown",
   "source": "Importing everything we need",
   "id": "ce4698a8cd2699bc"
  },
  {
   "cell_type": "code",
   "id": "initial_id",
   "metadata": {
    "collapsed": true,
    "ExecuteTime": {
     "end_time": "2025-01-02T06:28:18.777439Z",
     "start_time": "2025-01-02T06:28:18.762229Z"
    }
   },
   "source": [
    "import os\n",
    "import csv\n",
    "from langchain_openai import OpenAI\n",
    "from langchain.prompts import PromptTemplate\n",
    "from langchain_google_genai import ChatGoogleGenerativeAI\n",
    "from dotenv import load_dotenv\n",
    "from astrapy import DataAPIClient\n",
    "from langchain.schema import StrOutputParser\n",
    "from langchain.schema.runnable import RunnablePassthrough"
   ],
   "outputs": [],
   "execution_count": 68
  },
  {
   "metadata": {},
   "cell_type": "markdown",
   "source": "Load the env variables and declare the dataset path",
   "id": "c20da885e984ab10"
  },
  {
   "metadata": {
    "ExecuteTime": {
     "end_time": "2025-01-02T06:28:19.003882Z",
     "start_time": "2025-01-02T06:28:18.999851Z"
    }
   },
   "cell_type": "code",
   "source": [
    "load_dotenv()\n",
    "\n",
    "# Retrieve Astra DB credentials and settings from environment variables\n",
    "ASTRA_TOKEN = os.getenv(\"ASTRA_TOKEN\")\n",
    "ASTRA_DB_URL = os.getenv(\"ASTRA_DB_URL\")\n",
    "COLLECTION_NAME = os.getenv(\"COLLECTION_NAME\")\n",
    "file_path=\"./dataset.csv\""
   ],
   "id": "19428833e6fcc6f1",
   "outputs": [],
   "execution_count": 69
  },
  {
   "metadata": {},
   "cell_type": "markdown",
   "source": "Now, we connect to the DB\n",
   "id": "b6e9f146910ad4ab"
  },
  {
   "metadata": {
    "ExecuteTime": {
     "end_time": "2025-01-02T06:28:19.299849Z",
     "start_time": "2025-01-02T06:28:19.282310Z"
    }
   },
   "cell_type": "code",
   "source": [
    "client = DataAPIClient(ASTRA_TOKEN)\n",
    "db = client.get_database_by_api_endpoint(ASTRA_DB_URL)"
   ],
   "id": "af730672f4fb9bac",
   "outputs": [],
   "execution_count": 70
  },
  {
   "metadata": {},
   "cell_type": "markdown",
   "source": "If this is the First time, Then we have to create the new collection. creating a new collection if it does not exist already",
   "id": "ab662c42dcbea8"
  },
  {
   "metadata": {
    "ExecuteTime": {
     "end_time": "2025-01-02T06:21:04.562469Z",
     "start_time": "2025-01-02T06:20:56.236995Z"
    }
   },
   "cell_type": "code",
   "source": [
    "if COLLECTION_NAME not in db.list_collection_names():\n",
    "    db.create_collection(COLLECTION_NAME)\n",
    "    print(\"Created Collection\")\n",
    "else:\n",
    "    print(\"Collection already exists\")"
   ],
   "id": "8b112b0bce0a5fb3",
   "outputs": [
    {
     "name": "stdout",
     "output_type": "stream",
     "text": [
      "Collection already exists\n"
     ]
    }
   ],
   "execution_count": 62
  },
  {
   "metadata": {},
   "cell_type": "markdown",
   "source": "Now, we read the rows from the dataset and then feed it to the database one by one",
   "id": "3464ce0e770eabb3"
  },
  {
   "metadata": {
    "ExecuteTime": {
     "end_time": "2025-01-01T16:57:55.416243Z",
     "start_time": "2025-01-01T16:56:09.882313Z"
    }
   },
   "cell_type": "code",
   "source": [
    "collection = db.get_collection(COLLECTION_NAME)\n",
    "try:\n",
    "    with open(file_path, mode='r') as file:\n",
    "        csv_reader = csv.DictReader(file)\n",
    "        c=1\n",
    "        for row in csv_reader:\n",
    "            # Prepare document to insert into the collection\n",
    "            document = {\n",
    "                \"post_id\": row[\"post_id\"],\n",
    "                \"day_of_posting\": row[\"day_of_posting\"],\n",
    "                \"date_of_posting\": row[\"date_of_posting\"],\n",
    "                \"time_of_posting\": row[\"time_of_posting\"],\n",
    "                \"post_type\": row[\"post_type\"],\n",
    "                \"likes\": int(row[\"likes\"]),\n",
    "                \"comments\": int(row[\"comments\"]),\n",
    "                \"shares\": int(row[\"shares\"]),\n",
    "                \"repost\": int(row[\"repost\"]),\n",
    "                \"gender\": row[\"gender\"],\n",
    "                \"hashtags\": row[\"hashtags\"].split(\",\") if row[\"hashtags\"].strip() else []\n",
    "            }\n",
    "\n",
    "            # Insert into the collection\n",
    "            collection.insert_one(document)\n",
    "            print(\"Processed row {}\".format(c))\n",
    "            c+=1\n",
    "\n",
    "        print(\"Data successfully inserted into the database.\")\n",
    "except FileNotFoundError:\n",
    "    print(f\"Error: File '{file_path}' not found.\")\n",
    "except KeyError as e:\n",
    "    print(f\"Error: Missing required column in the file: {e}\")\n",
    "except ValueError as e:\n",
    "    print(f\"Error: Invalid data format: {e}\")\n",
    "except Exception as e:\n",
    "    print(f\"An error occurred: {e}\")"
   ],
   "id": "151eb6e50e67ff8c",
   "outputs": [
    {
     "name": "stdout",
     "output_type": "stream",
     "text": [
      "Processed row 1\n",
      "Processed row 2\n",
      "Processed row 3\n",
      "Processed row 4\n",
      "Processed row 5\n",
      "Processed row 6\n",
      "Processed row 7\n",
      "Processed row 8\n",
      "Processed row 9\n",
      "Processed row 10\n",
      "Processed row 11\n",
      "Processed row 12\n",
      "Processed row 13\n",
      "Processed row 14\n",
      "Processed row 15\n",
      "Processed row 16\n",
      "Processed row 17\n",
      "Processed row 18\n",
      "Processed row 19\n",
      "Processed row 20\n",
      "Processed row 21\n",
      "Processed row 22\n",
      "Processed row 23\n",
      "Processed row 24\n",
      "Processed row 25\n",
      "Processed row 26\n",
      "Processed row 27\n",
      "Processed row 28\n",
      "Processed row 29\n",
      "Processed row 30\n",
      "Processed row 31\n",
      "Processed row 32\n",
      "Processed row 33\n",
      "Processed row 34\n",
      "Processed row 35\n",
      "Processed row 36\n",
      "Processed row 37\n",
      "Processed row 38\n",
      "Processed row 39\n",
      "Processed row 40\n",
      "Processed row 41\n",
      "Processed row 42\n",
      "Processed row 43\n",
      "Processed row 44\n",
      "Processed row 45\n",
      "Processed row 46\n",
      "Processed row 47\n",
      "Processed row 48\n",
      "Processed row 49\n",
      "Processed row 50\n",
      "Processed row 51\n",
      "Processed row 52\n",
      "Processed row 53\n",
      "Processed row 54\n",
      "Processed row 55\n",
      "Processed row 56\n",
      "Processed row 57\n",
      "Processed row 58\n",
      "Processed row 59\n",
      "Processed row 60\n",
      "Processed row 61\n",
      "Processed row 62\n",
      "Processed row 63\n",
      "Processed row 64\n",
      "Processed row 65\n",
      "Processed row 66\n",
      "Processed row 67\n",
      "Processed row 68\n",
      "Processed row 69\n",
      "Processed row 70\n",
      "Processed row 71\n",
      "Processed row 72\n",
      "Processed row 73\n",
      "Processed row 74\n",
      "Processed row 75\n",
      "Processed row 76\n",
      "Processed row 77\n",
      "Processed row 78\n",
      "Processed row 79\n",
      "Processed row 80\n",
      "Processed row 81\n",
      "Processed row 82\n",
      "Processed row 83\n",
      "Processed row 84\n",
      "Processed row 85\n",
      "Processed row 86\n",
      "Processed row 87\n",
      "Processed row 88\n",
      "Processed row 89\n",
      "Processed row 90\n",
      "Processed row 91\n",
      "Processed row 92\n",
      "Processed row 93\n",
      "Processed row 94\n",
      "Processed row 95\n",
      "Processed row 96\n",
      "Processed row 97\n",
      "Processed row 98\n",
      "Processed row 99\n",
      "Processed row 100\n",
      "Data successfully inserted into the database.\n"
     ]
    }
   ],
   "execution_count": 55
  },
  {
   "metadata": {},
   "cell_type": "markdown",
   "source": "### Lets check what is inside the DB",
   "id": "3f1067944fcc1271"
  },
  {
   "metadata": {
    "ExecuteTime": {
     "end_time": "2025-01-02T06:29:04.956547Z",
     "start_time": "2025-01-02T06:28:25.626832Z"
    }
   },
   "cell_type": "code",
   "source": [
    "try:\n",
    "    data = collection.find()\n",
    "    data= [doc for doc in data]\n",
    "    print(data)\n",
    "except Exception as e:\n",
    "    print(f\"Error retrieving data from Astra DB: {e}\")"
   ],
   "id": "98e47be83b1367b2",
   "outputs": [
    {
     "name": "stdout",
     "output_type": "stream",
     "text": [
      "[{'_id': '081f9214-a5c2-419d-9f92-14a5c2b19dee', 'post_id': '0000000000000086', 'day_of_posting': 'Tuesday', 'date_of_posting': '2024-10-07', 'time_of_posting': '14:15:00', 'post_type': 'reels', 'likes': 240, 'comments': 55, 'shares': 30, 'repost': 15, 'gender': 'M', 'hashtags': ['#Tech']}, {'_id': '5b410d66-545a-462a-810d-66545aa62a3f', 'post_id': '0000000000000007', 'day_of_posting': 'Sunday', 'date_of_posting': '2024-12-25', 'time_of_posting': '13:30:00', 'post_type': 'reels', 'likes': 270, 'comments': 60, 'shares': 35, 'repost': 18, 'gender': 'M', 'hashtags': ['#Food']}, {'_id': '3afb44de-ffad-4ba9-bb44-deffad6ba983', 'post_id': '0000000000000032', 'day_of_posting': 'Thursday', 'date_of_posting': '2024-11-30', 'time_of_posting': '13:30:00', 'post_type': 'reels', 'likes': 250, 'comments': 60, 'shares': 35, 'repost': 18, 'gender': 'F', 'hashtags': ['#Vlog']}, {'_id': '92b77a46-1d63-4d39-b77a-461d63cd396b', 'post_id': '0000000000000099', 'day_of_posting': 'Monday', 'date_of_posting': '2024-09-24', 'time_of_posting': '15:00:00', 'post_type': 'mixed-carousel', 'likes': 140, 'comments': 30, 'shares': 16, 'repost': 8, 'gender': 'F', 'hashtags': ['#Sports']}, {'_id': '90af7a05-88d6-4d91-af7a-0588d6fd9164', 'post_id': '0000000000000044', 'day_of_posting': 'Tuesday', 'date_of_posting': '2024-11-18', 'time_of_posting': '09:30:00', 'post_type': 'video-carousel', 'likes': 190, 'comments': 43, 'shares': 21, 'repost': 10, 'gender': 'F', 'hashtags': ['#Movies']}, {'_id': '068c87a9-f9cc-4a54-8c87-a9f9ccda548f', 'post_id': '0000000000000096', 'day_of_posting': 'Friday', 'date_of_posting': '2024-09-27', 'time_of_posting': '14:00:00', 'post_type': 'reels', 'likes': 230, 'comments': 55, 'shares': 32, 'repost': 16, 'gender': 'M', 'hashtags': ['#Food']}, {'_id': '58738264-169c-4e66-b382-64169c6e667d', 'post_id': '0000000000000055', 'day_of_posting': 'Saturday', 'date_of_posting': '2024-11-07', 'time_of_posting': '15:30:00', 'post_type': 'carousel', 'likes': 110, 'comments': 22, 'shares': 11, 'repost': 5, 'gender': 'F', 'hashtags': ['#Food']}, {'_id': '12777dbf-d2bf-423f-b77d-bfd2bf923f88', 'post_id': '0000000000000090', 'day_of_posting': 'Saturday', 'date_of_posting': '2024-10-03', 'time_of_posting': '16:00:00', 'post_type': 'carousel', 'likes': 110, 'comments': 24, 'shares': 12, 'repost': 6, 'gender': 'M', 'hashtags': ['#Food']}, {'_id': '7237c6f8-17fc-487c-b7c6-f817fcb87ceb', 'post_id': '0000000000000046', 'day_of_posting': 'Thursday', 'date_of_posting': '2024-11-16', 'time_of_posting': '10:00:00', 'post_type': 'carousel', 'likes': 100, 'comments': 20, 'shares': 10, 'repost': 5, 'gender': 'F', 'hashtags': ['#Health']}, {'_id': '3fa6e97e-0304-4981-a6e9-7e0304198188', 'post_id': '0000000000000080', 'day_of_posting': 'Wednesday', 'date_of_posting': '2024-10-13', 'time_of_posting': '10:00:00', 'post_type': 'carousel', 'likes': 110, 'comments': 22, 'shares': 11, 'repost': 5, 'gender': 'M', 'hashtags': ['#Tech']}, {'_id': '6f1e32d7-84dc-46c2-9e32-d784dc86c214', 'post_id': '0000000000000048', 'day_of_posting': 'Saturday', 'date_of_posting': '2024-11-14', 'time_of_posting': '12:30:00', 'post_type': 'static-images', 'likes': 70, 'comments': 18, 'shares': 9, 'repost': 4, 'gender': 'F', 'hashtags': []}, {'_id': '9c0f03bc-4e57-4de2-8f03-bc4e577de274', 'post_id': '0000000000000095', 'day_of_posting': 'Thursday', 'date_of_posting': '2024-09-28', 'time_of_posting': '12:30:00', 'post_type': 'carousel', 'likes': 100, 'comments': 22, 'shares': 11, 'repost': 5, 'gender': 'F', 'hashtags': ['#Health']}, {'_id': 'dc61c5db-d39b-483c-a1c5-dbd39b083cb2', 'post_id': '0000000000000079', 'day_of_posting': 'Tuesday', 'date_of_posting': '2024-10-14', 'time_of_posting': '14:30:00', 'post_type': 'mixed-carousel', 'likes': 140, 'comments': 30, 'shares': 16, 'repost': 8, 'gender': 'F', 'hashtags': ['#Nature']}, {'_id': 'b415e364-996b-48af-95e3-64996b58af81', 'post_id': '0000000000000031', 'day_of_posting': 'Wednesday', 'date_of_posting': '2024-12-01', 'time_of_posting': '09:00:00', 'post_type': 'carousel', 'likes': 95, 'comments': 19, 'shares': 9, 'repost': 4, 'gender': 'M', 'hashtags': ['#Business']}, {'_id': '2173c02c-d9ec-4bfb-b3c0-2cd9eccbfb67', 'post_id': '0000000000000019', 'day_of_posting': 'Friday', 'date_of_posting': '2024-12-13', 'time_of_posting': '10:00:00', 'post_type': 'video-carousel', 'likes': 190, 'comments': 40, 'shares': 21, 'repost': 10, 'gender': 'M', 'hashtags': ['#Education']}, {'_id': '1d95d4b7-3546-4233-95d4-b73546d23376', 'post_id': '0000000000000005', 'day_of_posting': 'Friday', 'date_of_posting': '2024-12-27', 'time_of_posting': '11:45:00', 'post_type': 'mixed-carousel', 'likes': 140, 'comments': 30, 'shares': 16, 'repost': 8, 'gender': 'M', 'hashtags': ['#Tech']}, {'_id': '3c10b822-5d1a-4139-90b8-225d1a8139e5', 'post_id': '0000000000000008', 'day_of_posting': 'Monday', 'date_of_posting': '2024-12-24', 'time_of_posting': '08:00:00', 'post_type': 'static-images', 'likes': 55, 'comments': 12, 'shares': 6, 'repost': 2, 'gender': 'F', 'hashtags': []}, {'_id': '67adbd5c-4cb4-4761-adbd-5c4cb4e76130', 'post_id': '0000000000000010', 'day_of_posting': 'Wednesday', 'date_of_posting': '2024-12-22', 'time_of_posting': '10:00:00', 'post_type': 'mixed-carousel', 'likes': 130, 'comments': 28, 'shares': 14, 'repost': 7, 'gender': 'F', 'hashtags': ['#Nature']}, {'_id': '80e81967-2dc4-43e2-a819-672dc493e26c', 'post_id': '0000000000000054', 'day_of_posting': 'Friday', 'date_of_posting': '2024-11-08', 'time_of_posting': '12:00:00', 'post_type': 'mixed-carousel', 'likes': 130, 'comments': 30, 'shares': 16, 'repost': 8, 'gender': 'M', 'hashtags': ['#Travel']}, {'_id': 'db523953-243e-44a8-9239-53243ef4a87e', 'post_id': '0000000000000011', 'day_of_posting': 'Thursday', 'date_of_posting': '2024-12-21', 'time_of_posting': '12:30:00', 'post_type': 'carousel', 'likes': 110, 'comments': 22, 'shares': 11, 'repost': 5, 'gender': 'M', 'hashtags': ['#Photography']}, {'_id': '2c5792b0-9f7c-45c6-9792-b09f7c75c630', 'post_id': '0000000000000081', 'day_of_posting': 'Thursday', 'date_of_posting': '2024-10-12', 'time_of_posting': '12:00:00', 'post_type': 'reels', 'likes': 250, 'comments': 60, 'shares': 35, 'repost': 18, 'gender': 'F', 'hashtags': ['#Vlog']}, {'_id': 'c70b7e19-536d-4e86-8b7e-19536dbe86cf', 'post_id': '0000000000000064', 'day_of_posting': 'Monday', 'date_of_posting': '2024-10-29', 'time_of_posting': '10:00:00', 'post_type': 'mixed-carousel', 'likes': 150, 'comments': 35, 'shares': 18, 'repost': 9, 'gender': 'M', 'hashtags': ['#Sports']}, {'_id': '44d32d7d-4e4a-4bda-932d-7d4e4a8bda7b', 'post_id': '0000000000000037', 'day_of_posting': 'Tuesday', 'date_of_posting': '2024-11-25', 'time_of_posting': '11:00:00', 'post_type': 'reels', 'likes': 220, 'comments': 55, 'shares': 30, 'repost': 15, 'gender': 'M', 'hashtags': ['#AI']}, {'_id': '427f70fa-9a8a-46e1-bf70-fa9a8ab6e168', 'post_id': '0000000000000012', 'day_of_posting': 'Friday', 'date_of_posting': '2024-12-20', 'time_of_posting': '17:00:00', 'post_type': 'reels', 'likes': 240, 'comments': 50, 'shares': 28, 'repost': 14, 'gender': 'F', 'hashtags': ['#Vlog']}, {'_id': '5c9b088e-aa59-46ac-9b08-8eaa59e6ac67', 'post_id': '0000000000000068', 'day_of_posting': 'Friday', 'date_of_posting': '2024-10-25', 'time_of_posting': '13:00:00', 'post_type': 'video-carousel', 'likes': 200, 'comments': 43, 'shares': 21, 'repost': 10, 'gender': 'M', 'hashtags': ['#Fitness']}, {'_id': 'c1441bac-bbcd-4392-841b-acbbcd03924d', 'post_id': '0000000000000050', 'day_of_posting': 'Monday', 'date_of_posting': '2024-11-12', 'time_of_posting': '16:15:00', 'post_type': 'mixed-carousel', 'likes': 130, 'comments': 28, 'shares': 14, 'repost': 7, 'gender': 'F', 'hashtags': ['#Sports']}, {'_id': 'd2532801-c096-47c3-9328-01c096e7c3bb', 'post_id': '0000000000000065', 'day_of_posting': 'Tuesday', 'date_of_posting': '2024-10-28', 'time_of_posting': '16:30:00', 'post_type': 'carousel', 'likes': 105, 'comments': 22, 'shares': 11, 'repost': 5, 'gender': 'F', 'hashtags': ['#Nature']}, {'_id': '9f652b4f-d6c9-458f-a52b-4fd6c9d58ffd', 'post_id': '0000000000000038', 'day_of_posting': 'Wednesday', 'date_of_posting': '2024-11-24', 'time_of_posting': '13:30:00', 'post_type': 'static-images', 'likes': 80, 'comments': 18, 'shares': 9, 'repost': 4, 'gender': 'F', 'hashtags': []}, {'_id': 'c1a63fe2-649c-4a74-a63f-e2649c2a747f', 'post_id': '0000000000000070', 'day_of_posting': 'Sunday', 'date_of_posting': '2024-10-23', 'time_of_posting': '10:30:00', 'post_type': 'carousel', 'likes': 115, 'comments': 24, 'shares': 12, 'repost': 6, 'gender': 'M', 'hashtags': ['#Food']}, {'_id': '9d57c7a2-7c3e-4eec-97c7-a27c3e7eec03', 'post_id': '0000000000000030', 'day_of_posting': 'Tuesday', 'date_of_posting': '2024-12-02', 'time_of_posting': '12:45:00', 'post_type': 'mixed-carousel', 'likes': 140, 'comments': 30, 'shares': 16, 'repost': 7, 'gender': 'F', 'hashtags': ['#Lifestyle']}, {'_id': 'd17533d4-2c0e-4e8a-b533-d42c0ebe8a2f', 'post_id': '0000000000000058', 'day_of_posting': 'Tuesday', 'date_of_posting': '2024-11-04', 'time_of_posting': '12:30:00', 'post_type': 'video-carousel', 'likes': 190, 'comments': 43, 'shares': 21, 'repost': 10, 'gender': 'M', 'hashtags': ['#Music']}, {'_id': 'c5ac7b29-2323-4d35-ac7b-2923234d35e7', 'post_id': '0000000000000059', 'day_of_posting': 'Wednesday', 'date_of_posting': '2024-11-03', 'time_of_posting': '09:15:00', 'post_type': 'mixed-carousel', 'likes': 140, 'comments': 32, 'shares': 16, 'repost': 8, 'gender': 'F', 'hashtags': ['#Health']}, {'_id': '2c65ffe6-082e-410b-a5ff-e6082ed10ba9', 'post_id': '0000000000000053', 'day_of_posting': 'Thursday', 'date_of_posting': '2024-11-09', 'time_of_posting': '13:30:00', 'post_type': 'video-carousel', 'likes': 200, 'comments': 45, 'shares': 23, 'repost': 11, 'gender': 'F', 'hashtags': ['#Fitness']}, {'_id': '0514db82-8b2c-421c-94db-828b2cd21c21', 'post_id': '0000000000000015', 'day_of_posting': 'Monday', 'date_of_posting': '2024-12-17', 'time_of_posting': '09:15:00', 'post_type': 'mixed-carousel', 'likes': 150, 'comments': 32, 'shares': 16, 'repost': 8, 'gender': 'M', 'hashtags': ['#Sports']}, {'_id': '4dedc7d4-5941-47bd-adc7-d4594107bde1', 'post_id': '0000000000000059', 'day_of_posting': 'Wednesday', 'date_of_posting': '2024-11-03', 'time_of_posting': '09:15:00', 'post_type': 'mixed-carousel', 'likes': 140, 'comments': 32, 'shares': 16, 'repost': 8, 'gender': 'F', 'hashtags': ['#Health']}, {'_id': '23e838a4-e7a1-464d-a838-a4e7a1b64d27', 'post_id': '0000000000000028', 'day_of_posting': 'Sunday', 'date_of_posting': '2024-12-04', 'time_of_posting': '14:00:00', 'post_type': 'static-images', 'likes': 90, 'comments': 20, 'shares': 10, 'repost': 5, 'gender': 'F', 'hashtags': []}, {'_id': '3afa46b1-0612-4085-ba46-b10612608542', 'post_id': '0000000000000007', 'day_of_posting': 'Sunday', 'date_of_posting': '2024-12-25', 'time_of_posting': '13:30:00', 'post_type': 'reels', 'likes': 270, 'comments': 60, 'shares': 35, 'repost': 18, 'gender': 'M', 'hashtags': ['#Food']}, {'_id': 'efb58b6d-66c4-44f8-b58b-6d66c484f85f', 'post_id': '0000000000000032', 'day_of_posting': 'Thursday', 'date_of_posting': '2024-11-30', 'time_of_posting': '13:30:00', 'post_type': 'reels', 'likes': 250, 'comments': 60, 'shares': 35, 'repost': 18, 'gender': 'F', 'hashtags': ['#Vlog']}, {'_id': '29feca0c-1820-449d-beca-0c1820449d89', 'post_id': '0000000000000036', 'day_of_posting': 'Monday', 'date_of_posting': '2024-11-26', 'time_of_posting': '09:45:00', 'post_type': 'carousel', 'likes': 120, 'comments': 28, 'shares': 14, 'repost': 7, 'gender': 'F', 'hashtags': ['#Nature']}, {'_id': 'bee4c5a5-2e8a-47c2-a4c5-a52e8a07c2b7', 'post_id': '0000000000000026', 'day_of_posting': 'Friday', 'date_of_posting': '2024-12-06', 'time_of_posting': '15:00:00', 'post_type': 'carousel', 'likes': 110, 'comments': 22, 'shares': 12, 'repost': 5, 'gender': 'F', 'hashtags': ['#Music']}, {'_id': '1b5e16c0-58b6-4b5b-9e16-c058b6eb5bf7', 'post_id': '0000000000000052', 'day_of_posting': 'Wednesday', 'date_of_posting': '2024-11-10', 'time_of_posting': '14:15:00', 'post_type': 'static-images', 'likes': 65, 'comments': 14, 'shares': 7, 'repost': 3, 'gender': 'M', 'hashtags': []}, {'_id': 'cd71076b-6fbd-4e18-b107-6b6fbd1e18bd', 'post_id': '0000000000000097', 'day_of_posting': 'Saturday', 'date_of_posting': '2024-09-26', 'time_of_posting': '10:00:00', 'post_type': 'static-images', 'likes': 75, 'comments': 18, 'shares': 9, 'repost': 4, 'gender': 'F', 'hashtags': []}, {'_id': '1c3d33d0-b6fb-472c-bd33-d0b6fb772c9d', 'post_id': '0000000000000098', 'day_of_posting': 'Sunday', 'date_of_posting': '2024-09-25', 'time_of_posting': '11:30:00', 'post_type': 'video-carousel', 'likes': 200, 'comments': 43, 'shares': 21, 'repost': 10, 'gender': 'M', 'hashtags': ['#Fitness']}, {'_id': '832d34fb-594d-43eb-ad34-fb594d43eb33', 'post_id': '0000000000000013', 'day_of_posting': 'Saturday', 'date_of_posting': '2024-12-19', 'time_of_posting': '11:00:00', 'post_type': 'static-images', 'likes': 70, 'comments': 18, 'shares': 9, 'repost': 4, 'gender': 'M', 'hashtags': []}, {'_id': '157310ea-6a33-46ee-b310-ea6a3356ee51', 'post_id': '0000000000000040', 'day_of_posting': 'Friday', 'date_of_posting': '2024-11-22', 'time_of_posting': '12:00:00', 'post_type': 'mixed-carousel', 'likes': 130, 'comments': 30, 'shares': 15, 'repost': 7, 'gender': 'F', 'hashtags': ['#Tech']}, {'_id': '06402e95-eeb0-413a-802e-95eeb0313ac2', 'post_id': '0000000000000051', 'day_of_posting': 'Tuesday', 'date_of_posting': '2024-11-11', 'time_of_posting': '10:00:00', 'post_type': 'reels', 'likes': 240, 'comments': 55, 'shares': 30, 'repost': 15, 'gender': 'F', 'hashtags': ['#Tech']}, {'_id': 'b2d8eaf9-cdbf-4f8e-98ea-f9cdbf1f8e2f', 'post_id': '0000000000000003', 'day_of_posting': 'Wednesday', 'date_of_posting': '2024-12-29', 'time_of_posting': '12:00:00', 'post_type': 'static-images', 'likes': 60, 'comments': 15, 'shares': 8, 'repost': 3, 'gender': 'M', 'hashtags': []}, {'_id': '7619413b-255a-4849-9941-3b255ac84928', 'post_id': '0000000000000017', 'day_of_posting': 'Wednesday', 'date_of_posting': '2024-12-15', 'time_of_posting': '13:30:00', 'post_type': 'reels', 'likes': 280, 'comments': 65, 'shares': 38, 'repost': 20, 'gender': 'M', 'hashtags': ['#Tech']}, {'_id': '37975803-f03e-4123-9758-03f03ea123d3', 'post_id': '0000000000000091', 'day_of_posting': 'Sunday', 'date_of_posting': '2024-10-02', 'time_of_posting': '14:30:00', 'post_type': 'reels', 'likes': 220, 'comments': 50, 'shares': 30, 'repost': 15, 'gender': 'F', 'hashtags': ['#Fitness']}, {'_id': 'e4cd9677-1366-4c66-8d96-771366ac6604', 'post_id': '0000000000000028', 'day_of_posting': 'Sunday', 'date_of_posting': '2024-12-04', 'time_of_posting': '14:00:00', 'post_type': 'static-images', 'likes': 90, 'comments': 20, 'shares': 10, 'repost': 5, 'gender': 'F', 'hashtags': []}, {'_id': '3daf548a-e438-4fda-af54-8ae438ffda9f', 'post_id': '0000000000000014', 'day_of_posting': 'Sunday', 'date_of_posting': '2024-12-18', 'time_of_posting': '14:30:00', 'post_type': 'video-carousel', 'likes': 190, 'comments': 42, 'shares': 21, 'repost': 11, 'gender': 'F', 'hashtags': ['#Movies']}, {'_id': 'a370f1e4-74d5-487e-b0f1-e474d5587eb8', 'post_id': '0000000000000030', 'day_of_posting': 'Tuesday', 'date_of_posting': '2024-12-02', 'time_of_posting': '12:45:00', 'post_type': 'mixed-carousel', 'likes': 140, 'comments': 30, 'shares': 16, 'repost': 7, 'gender': 'F', 'hashtags': ['#Lifestyle']}, {'_id': 'ab862fbc-f438-4386-862f-bcf4384386f7', 'post_id': '0000000000000033', 'day_of_posting': 'Friday', 'date_of_posting': '2024-11-29', 'time_of_posting': '10:00:00', 'post_type': 'static-images', 'likes': 70, 'comments': 16, 'shares': 8, 'repost': 3, 'gender': 'M', 'hashtags': []}, {'_id': '9faa8124-c781-4be4-aa81-24c7817be4e9', 'post_id': '0000000000000083', 'day_of_posting': 'Saturday', 'date_of_posting': '2024-10-10', 'time_of_posting': '13:30:00', 'post_type': 'video-carousel', 'likes': 210, 'comments': 45, 'shares': 22, 'repost': 12, 'gender': 'F', 'hashtags': ['#Fitness']}, {'_id': 'a1b17e80-984d-45e1-b17e-80984d55e1c5', 'post_id': '0000000000000052', 'day_of_posting': 'Wednesday', 'date_of_posting': '2024-11-10', 'time_of_posting': '14:15:00', 'post_type': 'static-images', 'likes': 65, 'comments': 14, 'shares': 7, 'repost': 3, 'gender': 'M', 'hashtags': []}, {'_id': 'e363aaf0-47d1-46cd-a3aa-f047d106cd59', 'post_id': '0000000000000094', 'day_of_posting': 'Wednesday', 'date_of_posting': '2024-09-29', 'time_of_posting': '09:00:00', 'post_type': 'mixed-carousel', 'likes': 130, 'comments': 28, 'shares': 14, 'repost': 7, 'gender': 'M', 'hashtags': ['#Travel']}, {'_id': 'a31ba74f-d20a-46d0-9ba7-4fd20ad6d0cd', 'post_id': '0000000000000003', 'day_of_posting': 'Wednesday', 'date_of_posting': '2024-12-29', 'time_of_posting': '12:00:00', 'post_type': 'static-images', 'likes': 60, 'comments': 15, 'shares': 8, 'repost': 3, 'gender': 'M', 'hashtags': []}, {'_id': 'a1cb8961-e282-4d27-8b89-61e2824d2781', 'post_id': '0000000000000085', 'day_of_posting': 'Monday', 'date_of_posting': '2024-10-08', 'time_of_posting': '09:00:00', 'post_type': 'carousel', 'likes': 120, 'comments': 25, 'shares': 12, 'repost': 6, 'gender': 'F', 'hashtags': ['#DIY']}, {'_id': '9ca5cfe4-b394-411c-a5cf-e4b394111c65', 'post_id': '0000000000000036', 'day_of_posting': 'Monday', 'date_of_posting': '2024-11-26', 'time_of_posting': '09:45:00', 'post_type': 'carousel', 'likes': 120, 'comments': 28, 'shares': 14, 'repost': 7, 'gender': 'F', 'hashtags': ['#Nature']}, {'_id': '13663750-2b2e-42d5-a637-502b2ee2d5f9', 'post_id': '0000000000000047', 'day_of_posting': 'Friday', 'date_of_posting': '2024-11-15', 'time_of_posting': '14:00:00', 'post_type': 'reels', 'likes': 210, 'comments': 50, 'shares': 25, 'repost': 12, 'gender': 'M', 'hashtags': ['#Tech']}, {'_id': 'adbf31e4-dc25-4749-bf31-e4dc25a74921', 'post_id': '0000000000000045', 'day_of_posting': 'Wednesday', 'date_of_posting': '2024-11-17', 'time_of_posting': '12:45:00', 'post_type': 'mixed-carousel', 'likes': 140, 'comments': 32, 'shares': 16, 'repost': 8, 'gender': 'M', 'hashtags': ['#Travel']}, {'_id': '152b0d15-8610-490d-ab0d-158610490d34', 'post_id': '0000000000000023', 'day_of_posting': 'Tuesday', 'date_of_posting': '2024-12-09', 'time_of_posting': '14:15:00', 'post_type': 'static-images', 'likes': 75, 'comments': 18, 'shares': 9, 'repost': 4, 'gender': 'M', 'hashtags': []}, {'_id': '2a09b6a7-5bb0-4be5-89b6-a75bb02be59c', 'post_id': '0000000000000078', 'day_of_posting': 'Monday', 'date_of_posting': '2024-10-15', 'time_of_posting': '13:00:00', 'post_type': 'video-carousel', 'likes': 200, 'comments': 45, 'shares': 23, 'repost': 11, 'gender': 'M', 'hashtags': ['#Music']}, {'_id': '9c5e228f-cc8d-47cd-9e22-8fcc8d87cda0', 'post_id': '0000000000000056', 'day_of_posting': 'Sunday', 'date_of_posting': '2024-11-06', 'time_of_posting': '14:00:00', 'post_type': 'reels', 'likes': 230, 'comments': 55, 'shares': 32, 'repost': 16, 'gender': 'M', 'hashtags': ['#Food']}, {'_id': 'ac0d21ae-b9ad-4c37-8d21-aeb9adac3700', 'post_id': '0000000000000034', 'day_of_posting': 'Saturday', 'date_of_posting': '2024-11-28', 'time_of_posting': '14:15:00', 'post_type': 'video-carousel', 'likes': 190, 'comments': 42, 'shares': 20, 'repost': 10, 'gender': 'F', 'hashtags': ['#Movies']}, {'_id': '25d99a68-9d0e-4262-999a-689d0ec26225', 'post_id': '0000000000000018', 'day_of_posting': 'Thursday', 'date_of_posting': '2024-12-14', 'time_of_posting': '11:45:00', 'post_type': 'static-images', 'likes': 80, 'comments': 17, 'shares': 9, 'repost': 4, 'gender': 'F', 'hashtags': []}, {'_id': '1ee0d6cd-3444-40d5-a0d6-cd344400d5b3', 'post_id': '0000000000000021', 'day_of_posting': 'Sunday', 'date_of_posting': '2024-12-11', 'time_of_posting': '16:00:00', 'post_type': 'carousel', 'likes': 105, 'comments': 22, 'shares': 11, 'repost': 5, 'gender': 'M', 'hashtags': ['#Food']}, {'_id': '3753abc3-3ebf-4d2b-93ab-c33ebf1d2b77', 'post_id': '0000000000000020', 'day_of_posting': 'Saturday', 'date_of_posting': '2024-12-12', 'time_of_posting': '12:00:00', 'post_type': 'mixed-carousel', 'likes': 150, 'comments': 32, 'shares': 16, 'repost': 7, 'gender': 'F', 'hashtags': ['#Travel']}, {'_id': 'bcdab93a-2c3d-4dea-9ab9-3a2c3dbdea17', 'post_id': '0000000000000029', 'day_of_posting': 'Monday', 'date_of_posting': '2024-12-03', 'time_of_posting': '16:30:00', 'post_type': 'video-carousel', 'likes': 200, 'comments': 45, 'shares': 23, 'repost': 11, 'gender': 'M', 'hashtags': ['#Tech']}, {'_id': '87c8ffd9-27df-4124-88ff-d927df512428', 'post_id': '0000000000000022', 'day_of_posting': 'Monday', 'date_of_posting': '2024-12-10', 'time_of_posting': '09:30:00', 'post_type': 'reels', 'likes': 220, 'comments': 50, 'shares': 30, 'repost': 15, 'gender': 'F', 'hashtags': ['#Fitness']}, {'_id': '83419b3f-953b-43a8-819b-3f953b13a856', 'post_id': '0000000000000089', 'day_of_posting': 'Friday', 'date_of_posting': '2024-10-04', 'time_of_posting': '11:45:00', 'post_type': 'mixed-carousel', 'likes': 140, 'comments': 32, 'shares': 16, 'repost': 8, 'gender': 'F', 'hashtags': ['#Tech']}, {'_id': '23a10aba-e172-4c51-a10a-bae1729c5157', 'post_id': '0000000000000023', 'day_of_posting': 'Tuesday', 'date_of_posting': '2024-12-09', 'time_of_posting': '14:15:00', 'post_type': 'static-images', 'likes': 75, 'comments': 18, 'shares': 9, 'repost': 4, 'gender': 'M', 'hashtags': []}, {'_id': '732f8b23-0433-4785-af8b-230433f7859d', 'post_id': '0000000000000020', 'day_of_posting': 'Saturday', 'date_of_posting': '2024-12-12', 'time_of_posting': '12:00:00', 'post_type': 'mixed-carousel', 'likes': 150, 'comments': 32, 'shares': 16, 'repost': 7, 'gender': 'F', 'hashtags': ['#Travel']}, {'_id': '124483d5-4fd0-4c07-8483-d54fd04c0745', 'post_id': '0000000000000016', 'day_of_posting': 'Tuesday', 'date_of_posting': '2024-12-16', 'time_of_posting': '15:00:00', 'post_type': 'carousel', 'likes': 95, 'comments': 18, 'shares': 9, 'repost': 4, 'gender': 'F', 'hashtags': ['#DIY']}, {'_id': '461a1e0d-d436-47d7-9a1e-0dd43687d7c3', 'post_id': '0000000000000039', 'day_of_posting': 'Thursday', 'date_of_posting': '2024-11-23', 'time_of_posting': '10:30:00', 'post_type': 'video-carousel', 'likes': 180, 'comments': 39, 'shares': 20, 'repost': 9, 'gender': 'M', 'hashtags': ['#Fitness']}, {'_id': '95fe48db-a164-40b5-be48-dba164c0b592', 'post_id': '0000000000000016', 'day_of_posting': 'Tuesday', 'date_of_posting': '2024-12-16', 'time_of_posting': '15:00:00', 'post_type': 'carousel', 'likes': 95, 'comments': 18, 'shares': 9, 'repost': 4, 'gender': 'F', 'hashtags': ['#DIY']}, {'_id': '81f470fb-654f-4871-b470-fb654f587188', 'post_id': '0000000000000088', 'day_of_posting': 'Thursday', 'date_of_posting': '2024-10-05', 'time_of_posting': '13:00:00', 'post_type': 'video-carousel', 'likes': 200, 'comments': 43, 'shares': 21, 'repost': 10, 'gender': 'M', 'hashtags': ['#Health']}, {'_id': '7c61cb32-4ee5-49d9-a1cb-324ee5b9d922', 'post_id': '0000000000000075', 'day_of_posting': 'Friday', 'date_of_posting': '2024-10-18', 'time_of_posting': '11:00:00', 'post_type': 'carousel', 'likes': 100, 'comments': 20, 'shares': 10, 'repost': 5, 'gender': 'F', 'hashtags': ['#Health']}, {'_id': 'ccb76dbb-4e8b-45d2-b76d-bb4e8b85d269', 'post_id': '0000000000000001', 'day_of_posting': 'Monday', 'date_of_posting': '2024-12-31', 'time_of_posting': '10:30:00', 'post_type': 'carousel', 'likes': 120, 'comments': 25, 'shares': 12, 'repost': 6, 'gender': 'M', 'hashtags': ['#Tech']}, {'_id': 'eb3f4ce2-52cd-4935-bf4c-e252cdd935d1', 'post_id': '0000000000000005', 'day_of_posting': 'Friday', 'date_of_posting': '2024-12-27', 'time_of_posting': '11:45:00', 'post_type': 'mixed-carousel', 'likes': 140, 'comments': 30, 'shares': 16, 'repost': 8, 'gender': 'M', 'hashtags': ['#Tech']}, {'_id': '53b678e2-1ab4-48a5-b678-e21ab4b8a526', 'post_id': '0000000000000010', 'day_of_posting': 'Wednesday', 'date_of_posting': '2024-12-22', 'time_of_posting': '10:00:00', 'post_type': 'mixed-carousel', 'likes': 130, 'comments': 28, 'shares': 14, 'repost': 7, 'gender': 'F', 'hashtags': ['#Nature']}, {'_id': '0fb2c555-82b6-4e9b-b2c5-5582b61e9bc8', 'post_id': '0000000000000073', 'day_of_posting': 'Wednesday', 'date_of_posting': '2024-10-20', 'time_of_posting': '12:00:00', 'post_type': 'video-carousel', 'likes': 190, 'comments': 42, 'shares': 20, 'repost': 10, 'gender': 'F', 'hashtags': ['#Movies']}, {'_id': '3db1a27a-60ba-443e-b1a2-7a60ba943e35', 'post_id': '0000000000000021', 'day_of_posting': 'Sunday', 'date_of_posting': '2024-12-11', 'time_of_posting': '16:00:00', 'post_type': 'carousel', 'likes': 105, 'comments': 22, 'shares': 11, 'repost': 5, 'gender': 'M', 'hashtags': ['#Food']}, {'_id': '0b9bc29d-d46e-40b0-9bc2-9dd46ef0b0eb', 'post_id': '0000000000000043', 'day_of_posting': 'Monday', 'date_of_posting': '2024-11-19', 'time_of_posting': '13:00:00', 'post_type': 'static-images', 'likes': 60, 'comments': 15, 'shares': 7, 'repost': 3, 'gender': 'M', 'hashtags': []}, {'_id': '5882d840-a75a-40df-82d8-40a75a50dfdc', 'post_id': '0000000000000024', 'day_of_posting': 'Wednesday', 'date_of_posting': '2024-12-08', 'time_of_posting': '12:00:00', 'post_type': 'video-carousel', 'likes': 200, 'comments': 45, 'shares': 25, 'repost': 12, 'gender': 'F', 'hashtags': ['#Health']}, {'_id': '0c272060-3f5b-47bc-a720-603f5be7bce2', 'post_id': '0000000000000084', 'day_of_posting': 'Sunday', 'date_of_posting': '2024-10-09', 'time_of_posting': '11:00:00', 'post_type': 'mixed-carousel', 'likes': 150, 'comments': 32, 'shares': 16, 'repost': 8, 'gender': 'M', 'hashtags': ['#Sports']}, {'_id': 'e4a184fe-292d-466c-a184-fe292dc66c8a', 'post_id': '0000000000000071', 'day_of_posting': 'Monday', 'date_of_posting': '2024-10-22', 'time_of_posting': '14:45:00', 'post_type': 'reels', 'likes': 230, 'comments': 55, 'shares': 32, 'repost': 16, 'gender': 'F', 'hashtags': ['#Adventure']}, {'_id': '16c5ffe9-d7a2-4ff3-85ff-e9d7a21ff31a', 'post_id': '0000000000000035', 'day_of_posting': 'Sunday', 'date_of_posting': '2024-11-27', 'time_of_posting': '12:00:00', 'post_type': 'mixed-carousel', 'likes': 140, 'comments': 32, 'shares': 16, 'repost': 8, 'gender': 'M', 'hashtags': ['#Sports']}, {'_id': 'de61ee0d-1f0b-4d68-a1ee-0d1f0b2d68b2', 'post_id': '0000000000000092', 'day_of_posting': 'Monday', 'date_of_posting': '2024-10-01', 'time_of_posting': '12:00:00', 'post_type': 'static-images', 'likes': 80, 'comments': 18, 'shares': 9, 'repost': 4, 'gender': 'M', 'hashtags': []}, {'_id': '5702f626-d338-4093-82f6-26d338909310', 'post_id': '0000000000000040', 'day_of_posting': 'Friday', 'date_of_posting': '2024-11-22', 'time_of_posting': '12:00:00', 'post_type': 'mixed-carousel', 'likes': 130, 'comments': 30, 'shares': 15, 'repost': 7, 'gender': 'F', 'hashtags': ['#Tech']}, {'_id': '0307a969-6423-4204-87a9-696423420411', 'post_id': '0000000000000022', 'day_of_posting': 'Monday', 'date_of_posting': '2024-12-10', 'time_of_posting': '09:30:00', 'post_type': 'reels', 'likes': 220, 'comments': 50, 'shares': 30, 'repost': 15, 'gender': 'F', 'hashtags': ['#Fitness']}, {'_id': 'ecc29e00-b4a7-4b1a-829e-00b4a7fb1a06', 'post_id': '0000000000000045', 'day_of_posting': 'Wednesday', 'date_of_posting': '2024-11-17', 'time_of_posting': '12:45:00', 'post_type': 'mixed-carousel', 'likes': 140, 'comments': 32, 'shares': 16, 'repost': 8, 'gender': 'M', 'hashtags': ['#Travel']}, {'_id': '74c5a4a0-9969-4f95-85a4-a09969af9567', 'post_id': '0000000000000041', 'day_of_posting': 'Saturday', 'date_of_posting': '2024-11-21', 'time_of_posting': '14:00:00', 'post_type': 'carousel', 'likes': 110, 'comments': 24, 'shares': 12, 'repost': 6, 'gender': 'M', 'hashtags': ['#Food']}, {'_id': '2cf5ce77-17d1-4b90-b5ce-7717d1eb90f2', 'post_id': '0000000000000064', 'day_of_posting': 'Monday', 'date_of_posting': '2024-10-29', 'time_of_posting': '10:00:00', 'post_type': 'mixed-carousel', 'likes': 150, 'comments': 35, 'shares': 18, 'repost': 9, 'gender': 'M', 'hashtags': ['#Sports']}, {'_id': 'c50ed60f-5681-4fc6-8ed6-0f56812fc60a', 'post_id': '0000000000000018', 'day_of_posting': 'Thursday', 'date_of_posting': '2024-12-14', 'time_of_posting': '11:45:00', 'post_type': 'static-images', 'likes': 80, 'comments': 17, 'shares': 9, 'repost': 4, 'gender': 'F', 'hashtags': []}, {'_id': '562d7a2c-dbd5-4620-ad7a-2cdbd526209f', 'post_id': '0000000000000100', 'day_of_posting': 'Tuesday', 'date_of_posting': '2024-09-23', 'time_of_posting': '13:00:00', 'post_type': 'carousel', 'likes': 115, 'comments': 24, 'shares': 12, 'repost': 6, 'gender': 'M', 'hashtags': ['#Tech']}, {'_id': '063b2b7e-ad85-4d2e-bb2b-7ead856d2eb4', 'post_id': '0000000000000041', 'day_of_posting': 'Saturday', 'date_of_posting': '2024-11-21', 'time_of_posting': '14:00:00', 'post_type': 'carousel', 'likes': 110, 'comments': 24, 'shares': 12, 'repost': 6, 'gender': 'M', 'hashtags': ['#Food']}, {'_id': '85894fb8-e92f-4f4b-894f-b8e92f7f4b7c', 'post_id': '0000000000000025', 'day_of_posting': 'Thursday', 'date_of_posting': '2024-12-07', 'time_of_posting': '11:00:00', 'post_type': 'mixed-carousel', 'likes': 130, 'comments': 28, 'shares': 14, 'repost': 6, 'gender': 'M', 'hashtags': ['#Photography']}, {'_id': '01259e49-ac82-494c-a59e-49ac82b94c9b', 'post_id': '0000000000000082', 'day_of_posting': 'Friday', 'date_of_posting': '2024-10-11', 'time_of_posting': '16:00:00', 'post_type': 'static-images', 'likes': 70, 'comments': 15, 'shares': 8, 'repost': 4, 'gender': 'M', 'hashtags': []}, {'_id': 'f389ed51-1780-46ae-89ed-51178076ae0e', 'post_id': '0000000000000006', 'day_of_posting': 'Saturday', 'date_of_posting': '2024-12-26', 'time_of_posting': '16:00:00', 'post_type': 'carousel', 'likes': 100, 'comments': 20, 'shares': 10, 'repost': 5, 'gender': 'F', 'hashtags': ['#Fashion']}, {'_id': '565b1c3f-fca9-4bcf-9b1c-3ffca92bcff4', 'post_id': '0000000000000012', 'day_of_posting': 'Friday', 'date_of_posting': '2024-12-20', 'time_of_posting': '17:00:00', 'post_type': 'reels', 'likes': 240, 'comments': 50, 'shares': 28, 'repost': 14, 'gender': 'F', 'hashtags': ['#Vlog']}, {'_id': '43b17c60-7665-49c1-b17c-60766579c15b', 'post_id': '0000000000000004', 'day_of_posting': 'Thursday', 'date_of_posting': '2024-12-28', 'time_of_posting': '09:00:00', 'post_type': 'video-carousel', 'likes': 180, 'comments': 40, 'shares': 20, 'repost': 10, 'gender': 'F', 'hashtags': ['#Fitness']}, {'_id': 'a45634bf-996c-48c3-9634-bf996c08c326', 'post_id': '0000000000000035', 'day_of_posting': 'Sunday', 'date_of_posting': '2024-11-27', 'time_of_posting': '12:00:00', 'post_type': 'mixed-carousel', 'likes': 140, 'comments': 32, 'shares': 16, 'repost': 8, 'gender': 'M', 'hashtags': ['#Sports']}, {'_id': '951dd013-0ed7-4d9e-9dd0-130ed70d9e66', 'post_id': '0000000000000058', 'day_of_posting': 'Tuesday', 'date_of_posting': '2024-11-04', 'time_of_posting': '12:30:00', 'post_type': 'video-carousel', 'likes': 190, 'comments': 43, 'shares': 21, 'repost': 10, 'gender': 'M', 'hashtags': ['#Music']}, {'_id': 'c840f2b8-867e-4690-80f2-b8867ed690c5', 'post_id': '0000000000000053', 'day_of_posting': 'Thursday', 'date_of_posting': '2024-11-09', 'time_of_posting': '13:30:00', 'post_type': 'video-carousel', 'likes': 200, 'comments': 45, 'shares': 23, 'repost': 11, 'gender': 'F', 'hashtags': ['#Fitness']}, {'_id': '10ad17b1-7b77-4aff-ad17-b17b77baff59', 'post_id': '0000000000000037', 'day_of_posting': 'Tuesday', 'date_of_posting': '2024-11-25', 'time_of_posting': '11:00:00', 'post_type': 'reels', 'likes': 220, 'comments': 55, 'shares': 30, 'repost': 15, 'gender': 'M', 'hashtags': ['#AI']}, {'_id': 'b5c52336-bf09-47a6-8523-36bf0907a625', 'post_id': '0000000000000006', 'day_of_posting': 'Saturday', 'date_of_posting': '2024-12-26', 'time_of_posting': '16:00:00', 'post_type': 'carousel', 'likes': 100, 'comments': 20, 'shares': 10, 'repost': 5, 'gender': 'F', 'hashtags': ['#Fashion']}, {'_id': '58880725-90b4-4ae3-8807-2590b41ae37f', 'post_id': '0000000000000060', 'day_of_posting': 'Thursday', 'date_of_posting': '2024-11-02', 'time_of_posting': '16:00:00', 'post_type': 'carousel', 'likes': 120, 'comments': 25, 'shares': 12, 'repost': 6, 'gender': 'M', 'hashtags': ['#Tech']}, {'_id': '0103eb6a-a2a2-4705-83eb-6aa2a2a70562', 'post_id': '0000000000000049', 'day_of_posting': 'Sunday', 'date_of_posting': '2024-11-13', 'time_of_posting': '13:00:00', 'post_type': 'video-carousel', 'likes': 200, 'comments': 45, 'shares': 22, 'repost': 11, 'gender': 'M', 'hashtags': ['#Fitness']}, {'_id': 'e73a60dc-7817-4cb3-ba60-dc7817acb3d1', 'post_id': '0000000000000009', 'day_of_posting': 'Tuesday', 'date_of_posting': '2024-12-23', 'time_of_posting': '14:00:00', 'post_type': 'video-carousel', 'likes': 210, 'comments': 45, 'shares': 22, 'repost': 12, 'gender': 'M', 'hashtags': ['#Music']}, {'_id': '341af3bd-55c7-47e2-9af3-bd55c767e2bf', 'post_id': '0000000000000044', 'day_of_posting': 'Tuesday', 'date_of_posting': '2024-11-18', 'time_of_posting': '09:30:00', 'post_type': 'video-carousel', 'likes': 190, 'comments': 43, 'shares': 21, 'repost': 10, 'gender': 'F', 'hashtags': ['#Movies']}, {'_id': '8c9089ce-36e6-4694-9089-ce36e676946f', 'post_id': '0000000000000025', 'day_of_posting': 'Thursday', 'date_of_posting': '2024-12-07', 'time_of_posting': '11:00:00', 'post_type': 'mixed-carousel', 'likes': 130, 'comments': 28, 'shares': 14, 'repost': 6, 'gender': 'M', 'hashtags': ['#Photography']}, {'_id': '2184687d-e455-46db-8468-7de455e6dba4', 'post_id': '0000000000000043', 'day_of_posting': 'Monday', 'date_of_posting': '2024-11-19', 'time_of_posting': '13:00:00', 'post_type': 'static-images', 'likes': 60, 'comments': 15, 'shares': 7, 'repost': 3, 'gender': 'M', 'hashtags': []}, {'_id': 'ee0b5ff0-ebb7-4731-8b5f-f0ebb7473113', 'post_id': '0000000000000057', 'day_of_posting': 'Monday', 'date_of_posting': '2024-11-05', 'time_of_posting': '10:45:00', 'post_type': 'static-images', 'likes': 75, 'comments': 18, 'shares': 9, 'repost': 4, 'gender': 'F', 'hashtags': []}, {'_id': '99946703-5177-4276-9467-03517782761a', 'post_id': '0000000000000061', 'day_of_posting': 'Friday', 'date_of_posting': '2024-11-01', 'time_of_posting': '14:00:00', 'post_type': 'reels', 'likes': 250, 'comments': 60, 'shares': 35, 'repost': 18, 'gender': 'F', 'hashtags': ['#Fitness']}, {'_id': '64ca9f5a-4c68-4030-8a9f-5a4c6840302f', 'post_id': '0000000000000008', 'day_of_posting': 'Monday', 'date_of_posting': '2024-12-24', 'time_of_posting': '08:00:00', 'post_type': 'static-images', 'likes': 55, 'comments': 12, 'shares': 6, 'repost': 2, 'gender': 'F', 'hashtags': []}, {'_id': 'be73a9ea-074b-45b0-b3a9-ea074b95b0f4', 'post_id': '0000000000000066', 'day_of_posting': 'Wednesday', 'date_of_posting': '2024-10-27', 'time_of_posting': '12:00:00', 'post_type': 'reels', 'likes': 220, 'comments': 50, 'shares': 30, 'repost': 15, 'gender': 'M', 'hashtags': ['#AI']}, {'_id': '9f67f4fb-5cb1-4eec-a7f4-fb5cb1feecd9', 'post_id': '0000000000000049', 'day_of_posting': 'Sunday', 'date_of_posting': '2024-11-13', 'time_of_posting': '13:00:00', 'post_type': 'video-carousel', 'likes': 200, 'comments': 45, 'shares': 22, 'repost': 11, 'gender': 'M', 'hashtags': ['#Fitness']}, {'_id': 'efc9be65-da9c-4c21-89be-65da9cdc21de', 'post_id': '0000000000000034', 'day_of_posting': 'Saturday', 'date_of_posting': '2024-11-28', 'time_of_posting': '14:15:00', 'post_type': 'video-carousel', 'likes': 190, 'comments': 42, 'shares': 20, 'repost': 10, 'gender': 'F', 'hashtags': ['#Movies']}, {'_id': 'ea20afb6-1d9e-4b9c-a0af-b61d9ecb9c23', 'post_id': '0000000000000039', 'day_of_posting': 'Thursday', 'date_of_posting': '2024-11-23', 'time_of_posting': '10:30:00', 'post_type': 'video-carousel', 'likes': 180, 'comments': 39, 'shares': 20, 'repost': 9, 'gender': 'M', 'hashtags': ['#Fitness']}, {'_id': '0db9de41-db4d-4274-b9de-41db4d02746e', 'post_id': '0000000000000026', 'day_of_posting': 'Friday', 'date_of_posting': '2024-12-06', 'time_of_posting': '15:00:00', 'post_type': 'carousel', 'likes': 110, 'comments': 22, 'shares': 12, 'repost': 5, 'gender': 'F', 'hashtags': ['#Music']}, {'_id': '4269c9cb-2732-4e9e-a9c9-cb27320e9e08', 'post_id': '0000000000000042', 'day_of_posting': 'Sunday', 'date_of_posting': '2024-11-20', 'time_of_posting': '16:15:00', 'post_type': 'reels', 'likes': 200, 'comments': 45, 'shares': 22, 'repost': 11, 'gender': 'F', 'hashtags': ['#Adventure']}, {'_id': '3c93dd2c-b48b-4cdb-93dd-2cb48b5cdb12', 'post_id': '0000000000000046', 'day_of_posting': 'Thursday', 'date_of_posting': '2024-11-16', 'time_of_posting': '10:00:00', 'post_type': 'carousel', 'likes': 100, 'comments': 20, 'shares': 10, 'repost': 5, 'gender': 'F', 'hashtags': ['#Health']}, {'_id': '0d6efba3-48e7-4249-aefb-a348e712493d', 'post_id': '0000000000000011', 'day_of_posting': 'Thursday', 'date_of_posting': '2024-12-21', 'time_of_posting': '12:30:00', 'post_type': 'carousel', 'likes': 110, 'comments': 22, 'shares': 11, 'repost': 5, 'gender': 'M', 'hashtags': ['#Photography']}, {'_id': '09597366-0b7b-4d79-9973-660b7bcd7918', 'post_id': '0000000000000019', 'day_of_posting': 'Friday', 'date_of_posting': '2024-12-13', 'time_of_posting': '10:00:00', 'post_type': 'video-carousel', 'likes': 190, 'comments': 40, 'shares': 21, 'repost': 10, 'gender': 'M', 'hashtags': ['#Education']}, {'_id': '4c446498-6416-41d0-8464-98641611d0b6', 'post_id': '0000000000000013', 'day_of_posting': 'Saturday', 'date_of_posting': '2024-12-19', 'time_of_posting': '11:00:00', 'post_type': 'static-images', 'likes': 70, 'comments': 18, 'shares': 9, 'repost': 4, 'gender': 'M', 'hashtags': []}, {'_id': 'ec865ee5-9877-4883-865e-e59877b883df', 'post_id': '0000000000000062', 'day_of_posting': 'Saturday', 'date_of_posting': '2024-10-31', 'time_of_posting': '13:00:00', 'post_type': 'static-images', 'likes': 80, 'comments': 20, 'shares': 10, 'repost': 5, 'gender': 'M', 'hashtags': []}, {'_id': '497851dc-9ddf-4113-b851-dc9ddf311344', 'post_id': '0000000000000063', 'day_of_posting': 'Sunday', 'date_of_posting': '2024-10-30', 'time_of_posting': '12:30:00', 'post_type': 'video-carousel', 'likes': 210, 'comments': 45, 'shares': 22, 'repost': 12, 'gender': 'F', 'hashtags': ['#Movies']}, {'_id': '957289a4-ae33-4f3c-b289-a4ae333f3c87', 'post_id': '0000000000000001', 'day_of_posting': 'Monday', 'date_of_posting': '2024-12-31', 'time_of_posting': '10:30:00', 'post_type': 'carousel', 'likes': 120, 'comments': 25, 'shares': 12, 'repost': 6, 'gender': 'M', 'hashtags': ['#Tech']}, {'_id': '13bc098b-f4a9-463f-bc09-8bf4a9163f00', 'post_id': '0000000000000074', 'day_of_posting': 'Thursday', 'date_of_posting': '2024-10-19', 'time_of_posting': '13:30:00', 'post_type': 'mixed-carousel', 'likes': 130, 'comments': 28, 'shares': 14, 'repost': 7, 'gender': 'M', 'hashtags': ['#Travel']}, {'_id': '7ebca664-7012-453b-bca6-647012653b36', 'post_id': '0000000000000057', 'day_of_posting': 'Monday', 'date_of_posting': '2024-11-05', 'time_of_posting': '10:45:00', 'post_type': 'static-images', 'likes': 75, 'comments': 18, 'shares': 9, 'repost': 4, 'gender': 'F', 'hashtags': []}, {'_id': 'c5e27430-4969-4f9b-a274-3049696f9bda', 'post_id': '0000000000000038', 'day_of_posting': 'Wednesday', 'date_of_posting': '2024-11-24', 'time_of_posting': '13:30:00', 'post_type': 'static-images', 'likes': 80, 'comments': 18, 'shares': 9, 'repost': 4, 'gender': 'F', 'hashtags': []}, {'_id': '12ca0bd3-64d8-4e1f-8a0b-d364d8ee1fd3', 'post_id': '0000000000000065', 'day_of_posting': 'Tuesday', 'date_of_posting': '2024-10-28', 'time_of_posting': '16:30:00', 'post_type': 'carousel', 'likes': 105, 'comments': 22, 'shares': 11, 'repost': 5, 'gender': 'F', 'hashtags': ['#Nature']}, {'_id': '2f6907db-cbc8-4809-a907-dbcbc87809f7', 'post_id': '0000000000000062', 'day_of_posting': 'Saturday', 'date_of_posting': '2024-10-31', 'time_of_posting': '13:00:00', 'post_type': 'static-images', 'likes': 80, 'comments': 20, 'shares': 10, 'repost': 5, 'gender': 'M', 'hashtags': []}, {'_id': 'e3636579-d010-4ce2-a365-79d0104ce22e', 'post_id': '0000000000000009', 'day_of_posting': 'Tuesday', 'date_of_posting': '2024-12-23', 'time_of_posting': '14:00:00', 'post_type': 'video-carousel', 'likes': 210, 'comments': 45, 'shares': 22, 'repost': 12, 'gender': 'M', 'hashtags': ['#Music']}, {'_id': '8c30f3ee-81ef-43ee-b0f3-ee81ef13ee2b', 'post_id': '0000000000000031', 'day_of_posting': 'Wednesday', 'date_of_posting': '2024-12-01', 'time_of_posting': '09:00:00', 'post_type': 'carousel', 'likes': 95, 'comments': 19, 'shares': 9, 'repost': 4, 'gender': 'M', 'hashtags': ['#Business']}, {'_id': '8156b03b-93d4-40eb-96b0-3b93d430eb5e', 'post_id': '0000000000000024', 'day_of_posting': 'Wednesday', 'date_of_posting': '2024-12-08', 'time_of_posting': '12:00:00', 'post_type': 'video-carousel', 'likes': 200, 'comments': 45, 'shares': 25, 'repost': 12, 'gender': 'F', 'hashtags': ['#Health']}, {'_id': 'f1cd0f14-511c-4823-8d0f-14511c9823b5', 'post_id': '0000000000000033', 'day_of_posting': 'Friday', 'date_of_posting': '2024-11-29', 'time_of_posting': '10:00:00', 'post_type': 'static-images', 'likes': 70, 'comments': 16, 'shares': 8, 'repost': 3, 'gender': 'M', 'hashtags': []}, {'_id': '646499e8-3c4d-4ab3-a499-e83c4d1ab301', 'post_id': '0000000000000055', 'day_of_posting': 'Saturday', 'date_of_posting': '2024-11-07', 'time_of_posting': '15:30:00', 'post_type': 'carousel', 'likes': 110, 'comments': 22, 'shares': 11, 'repost': 5, 'gender': 'F', 'hashtags': ['#Food']}, {'_id': '1a7bd671-a9a5-4aa9-bbd6-71a9a59aa9d8', 'post_id': '0000000000000060', 'day_of_posting': 'Thursday', 'date_of_posting': '2024-11-02', 'time_of_posting': '16:00:00', 'post_type': 'carousel', 'likes': 120, 'comments': 25, 'shares': 12, 'repost': 6, 'gender': 'M', 'hashtags': ['#Tech']}, {'_id': '7819093a-953c-4929-9909-3a953c792952', 'post_id': '0000000000000061', 'day_of_posting': 'Friday', 'date_of_posting': '2024-11-01', 'time_of_posting': '14:00:00', 'post_type': 'reels', 'likes': 250, 'comments': 60, 'shares': 35, 'repost': 18, 'gender': 'F', 'hashtags': ['#Fitness']}, {'_id': '85c621b6-b91e-473f-8621-b6b91e073f25', 'post_id': '0000000000000051', 'day_of_posting': 'Tuesday', 'date_of_posting': '2024-11-11', 'time_of_posting': '10:00:00', 'post_type': 'reels', 'likes': 240, 'comments': 55, 'shares': 30, 'repost': 15, 'gender': 'F', 'hashtags': ['#Tech']}, {'_id': '84afaec0-a3a8-4cc8-afae-c0a3a8acc879', 'post_id': '0000000000000048', 'day_of_posting': 'Saturday', 'date_of_posting': '2024-11-14', 'time_of_posting': '12:30:00', 'post_type': 'static-images', 'likes': 70, 'comments': 18, 'shares': 9, 'repost': 4, 'gender': 'F', 'hashtags': []}, {'_id': '9a04814d-b314-4271-8481-4db3147271b5', 'post_id': '0000000000000047', 'day_of_posting': 'Friday', 'date_of_posting': '2024-11-15', 'time_of_posting': '14:00:00', 'post_type': 'reels', 'likes': 210, 'comments': 50, 'shares': 25, 'repost': 12, 'gender': 'M', 'hashtags': ['#Tech']}, {'_id': 'be20101a-65cb-4abd-a010-1a65cbfabd6e', 'post_id': '0000000000000027', 'day_of_posting': 'Saturday', 'date_of_posting': '2024-12-05', 'time_of_posting': '10:30:00', 'post_type': 'reels', 'likes': 230, 'comments': 55, 'shares': 32, 'repost': 16, 'gender': 'M', 'hashtags': ['#Food']}, {'_id': 'd137bbb5-61c4-4976-b7bb-b561c49976b3', 'post_id': '0000000000000050', 'day_of_posting': 'Monday', 'date_of_posting': '2024-11-12', 'time_of_posting': '16:15:00', 'post_type': 'mixed-carousel', 'likes': 130, 'comments': 28, 'shares': 14, 'repost': 7, 'gender': 'F', 'hashtags': ['#Sports']}, {'_id': 'a23d05cc-7a4d-49fc-bd05-cc7a4df9fc5b', 'post_id': '0000000000000072', 'day_of_posting': 'Tuesday', 'date_of_posting': '2024-10-21', 'time_of_posting': '09:00:00', 'post_type': 'static-images', 'likes': 70, 'comments': 16, 'shares': 8, 'repost': 3, 'gender': 'M', 'hashtags': []}, {'_id': 'd9c47977-f4a2-4032-8479-77f4a2e0326b', 'post_id': '0000000000000014', 'day_of_posting': 'Sunday', 'date_of_posting': '2024-12-18', 'time_of_posting': '14:30:00', 'post_type': 'video-carousel', 'likes': 190, 'comments': 42, 'shares': 21, 'repost': 11, 'gender': 'F', 'hashtags': ['#Movies']}, {'_id': '10737623-026c-4303-b376-23026c23039b', 'post_id': '0000000000000056', 'day_of_posting': 'Sunday', 'date_of_posting': '2024-11-06', 'time_of_posting': '14:00:00', 'post_type': 'reels', 'likes': 230, 'comments': 55, 'shares': 32, 'repost': 16, 'gender': 'M', 'hashtags': ['#Food']}, {'_id': '060f52ac-b4e6-4806-8f52-acb4e618067f', 'post_id': '0000000000000093', 'day_of_posting': 'Tuesday', 'date_of_posting': '2024-09-30', 'time_of_posting': '13:30:00', 'post_type': 'video-carousel', 'likes': 190, 'comments': 42, 'shares': 20, 'repost': 10, 'gender': 'F', 'hashtags': ['#Movies']}, {'_id': 'c26c883b-1203-4a8f-ac88-3b12039a8f73', 'post_id': '0000000000000063', 'day_of_posting': 'Sunday', 'date_of_posting': '2024-10-30', 'time_of_posting': '12:30:00', 'post_type': 'video-carousel', 'likes': 210, 'comments': 45, 'shares': 22, 'repost': 12, 'gender': 'F', 'hashtags': ['#Movies']}, {'_id': '1f3aba37-ed12-4639-baba-37ed12f6395f', 'post_id': '0000000000000029', 'day_of_posting': 'Monday', 'date_of_posting': '2024-12-03', 'time_of_posting': '16:30:00', 'post_type': 'video-carousel', 'likes': 200, 'comments': 45, 'shares': 23, 'repost': 11, 'gender': 'M', 'hashtags': ['#Tech']}, {'_id': 'e011ba10-1824-4681-91ba-1018241681f7', 'post_id': '0000000000000002', 'day_of_posting': 'Tuesday', 'date_of_posting': '2024-12-30', 'time_of_posting': '14:15:00', 'post_type': 'reels', 'likes': 250, 'comments': 55, 'shares': 30, 'repost': 15, 'gender': 'F', 'hashtags': ['#ML']}, {'_id': '936b2eed-8e80-4383-ab2e-ed8e80d383d7', 'post_id': '0000000000000067', 'day_of_posting': 'Thursday', 'date_of_posting': '2024-10-26', 'time_of_posting': '14:15:00', 'post_type': 'static-images', 'likes': 60, 'comments': 14, 'shares': 8, 'repost': 4, 'gender': 'F', 'hashtags': []}, {'_id': 'd897d8b9-365c-466d-97d8-b9365c066d06', 'post_id': '0000000000000087', 'day_of_posting': 'Wednesday', 'date_of_posting': '2024-10-06', 'time_of_posting': '10:30:00', 'post_type': 'static-images', 'likes': 65, 'comments': 14, 'shares': 7, 'repost': 3, 'gender': 'F', 'hashtags': []}, {'_id': 'cf9659c5-fedb-4656-9659-c5fedb465639', 'post_id': '0000000000000069', 'day_of_posting': 'Saturday', 'date_of_posting': '2024-10-24', 'time_of_posting': '15:00:00', 'post_type': 'mixed-carousel', 'likes': 140, 'comments': 32, 'shares': 16, 'repost': 8, 'gender': 'F', 'hashtags': ['#Tech']}, {'_id': '05668ac8-868f-4084-a68a-c8868fb084ba', 'post_id': '0000000000000054', 'day_of_posting': 'Friday', 'date_of_posting': '2024-11-08', 'time_of_posting': '12:00:00', 'post_type': 'mixed-carousel', 'likes': 130, 'comments': 30, 'shares': 16, 'repost': 8, 'gender': 'M', 'hashtags': ['#Travel']}, {'_id': 'daf95ee7-6fbd-4c60-b95e-e76fbd6c6052', 'post_id': '0000000000000017', 'day_of_posting': 'Wednesday', 'date_of_posting': '2024-12-15', 'time_of_posting': '13:30:00', 'post_type': 'reels', 'likes': 280, 'comments': 65, 'shares': 38, 'repost': 20, 'gender': 'M', 'hashtags': ['#Tech']}, {'_id': 'ddf469e9-2e0d-4395-b469-e92e0de395ab', 'post_id': '0000000000000027', 'day_of_posting': 'Saturday', 'date_of_posting': '2024-12-05', 'time_of_posting': '10:30:00', 'post_type': 'reels', 'likes': 230, 'comments': 55, 'shares': 32, 'repost': 16, 'gender': 'M', 'hashtags': ['#Food']}, {'_id': '45ded319-e366-4efd-9ed3-19e366defdeb', 'post_id': '0000000000000015', 'day_of_posting': 'Monday', 'date_of_posting': '2024-12-17', 'time_of_posting': '09:15:00', 'post_type': 'mixed-carousel', 'likes': 150, 'comments': 32, 'shares': 16, 'repost': 8, 'gender': 'M', 'hashtags': ['#Sports']}, {'_id': '61312079-dee2-4f0e-b120-79dee25f0e1c', 'post_id': '0000000000000002', 'day_of_posting': 'Tuesday', 'date_of_posting': '2024-12-30', 'time_of_posting': '14:15:00', 'post_type': 'reels', 'likes': 250, 'comments': 55, 'shares': 30, 'repost': 15, 'gender': 'F', 'hashtags': ['#ML']}, {'_id': 'abceaa77-af5e-45bf-8eaa-77af5e05bf93', 'post_id': '0000000000000004', 'day_of_posting': 'Thursday', 'date_of_posting': '2024-12-28', 'time_of_posting': '09:00:00', 'post_type': 'video-carousel', 'likes': 180, 'comments': 40, 'shares': 20, 'repost': 10, 'gender': 'F', 'hashtags': ['#Fitness']}, {'_id': '136d34db-222a-47b4-ad34-db222a77b4e9', 'post_id': '0000000000000042', 'day_of_posting': 'Sunday', 'date_of_posting': '2024-11-20', 'time_of_posting': '16:15:00', 'post_type': 'reels', 'likes': 200, 'comments': 45, 'shares': 22, 'repost': 11, 'gender': 'F', 'hashtags': ['#Adventure']}, {'_id': 'd01d993e-a3f2-4e94-9d99-3ea3f2be948f', 'post_id': '0000000000000077', 'day_of_posting': 'Sunday', 'date_of_posting': '2024-10-16', 'time_of_posting': '10:30:00', 'post_type': 'static-images', 'likes': 80, 'comments': 18, 'shares': 9, 'repost': 4, 'gender': 'F', 'hashtags': []}, {'_id': '0d3b7d9f-a801-427e-bb7d-9fa801827e91', 'post_id': '0000000000000076', 'day_of_posting': 'Saturday', 'date_of_posting': '2024-10-17', 'time_of_posting': '16:00:00', 'post_type': 'reels', 'likes': 240, 'comments': 55, 'shares': 30, 'repost': 15, 'gender': 'M', 'hashtags': ['#Tech']}]\n"
     ]
    }
   ],
   "execution_count": 71
  },
  {
   "metadata": {},
   "cell_type": "markdown",
   "source": "# if we use OpenAI's LLM",
   "id": "b52faca04b803439"
  },
  {
   "metadata": {},
   "cell_type": "code",
   "outputs": [],
   "execution_count": null,
   "source": [
    "llm = OpenAI(openai_api_key=os.getenv(\"OPENAI_API_KEY\"))\n",
    "prompt_template = (\n",
    "    \"Here is the entire dataset: {data}. \"\n",
    "    \"Identify patterns, trends, and insights from this dataset. \"\n",
    "    \"Summarize the key trends only without providing row-by-row details.\"\n",
    "    \"For example, One trend could be 'Posts by females receive 46% more likes compared to posts by male'. similarly generate more insights from the data and use Numbers to further strengthen the trends.\"\n",
    "    \"Finally, the output should be a list of trends and insights from the data. do not genererate anything else, no suggestions.\"\n",
    "    \"Generate as many trends as possible, including all columns of the data, except the _id and post_id.\"\n",
    "    \"For example, show the correlation between posts at different times and the engagement\"\n",
    ")\n",
    "prompt = PromptTemplate(input_variables=[\"data\"], template=prompt_template)\n",
    "chain = (\n",
    "    {\"data\": RunnablePassthrough()}\n",
    "    | prompt\n",
    "    | llm\n",
    "    | StrOutputParser()\n",
    ")\n"
   ],
   "id": "e2ebb76dcd11aaab"
  },
  {
   "metadata": {},
   "cell_type": "markdown",
   "source": "# If we use Gemini 1.5 Flash",
   "id": "ee968c133ac45637"
  },
  {
   "metadata": {
    "ExecuteTime": {
     "end_time": "2025-01-02T06:29:13.194033Z",
     "start_time": "2025-01-02T06:29:13.178455Z"
    }
   },
   "cell_type": "code",
   "source": [
    "llm = ChatGoogleGenerativeAI(model=\"gemini-1.5-flash\", google_api_key=os.getenv(\"GEMINI_API_KEY\"))\n",
    "prompt_template = (\n",
    "    \"Here is the entire dataset: {data}. \"\n",
    "    \"Identify patterns, trends, and insights from this dataset. \"\n",
    "    \"Summarize the key trends only without providing row-by-row details.\"\n",
    "    \"For example, One trend could be 'Posts by females receive 46% more likes compared to posts by male'. similarly generate more insights from the data and use Numbers to further strengthen the trends.\"\n",
    "    \"Finally, the output should be a list of trends and insights from the data. do not genererate anything else, no suggestions.\"\n",
    "    \"Generate as many trends as possible, including all columns of the data, except the _id and post_id.\"\n",
    "    \"For example, show the correlation between posts at different times and the engagement\"\n",
    ")\n",
    "prompt = PromptTemplate(input_variables=[\"data\"], template=prompt_template)\n",
    "chain = (\n",
    "    {\"data\": RunnablePassthrough()}\n",
    "    | prompt\n",
    "    | llm\n",
    "    | StrOutputParser()\n",
    ")"
   ],
   "id": "ba88344e98e1c144",
   "outputs": [],
   "execution_count": 72
  },
  {
   "metadata": {
    "ExecuteTime": {
     "end_time": "2025-01-02T06:29:22.186474Z",
     "start_time": "2025-01-02T06:29:14.168192Z"
    }
   },
   "cell_type": "code",
   "source": [
    "trends = chain.invoke(str(data))\n",
    "print(trends)"
   ],
   "id": "1a5cc33e67402f5b",
   "outputs": [
    {
     "name": "stdout",
     "output_type": "stream",
     "text": [
      "* Reels receive significantly more likes (average 235) than other post types (average 120).\n",
      "* Posts with hashtags receive more engagement (likes, comments, shares, and reposts) than those without.\n",
      "*  Posts made on Tuesdays and Wednesdays tend to have higher engagement than other days.\n",
      "*  There is a positive correlation between the number of likes and comments, shares, and reposts.\n",
      "*  Male users tend to post more reels and receive slightly more likes on average than female users.\n",
      "* The time of posting shows some influence on engagement, with posts between 12pm and 4pm generally receiving higher engagement.\n",
      "* \"#Food\" and \"#Tech\" are the most frequently used hashtags, suggesting strong user interest in these topics.\n",
      "*  \"Mixed-carousel\" and \"video-carousel\" post types have similar average engagement levels.\n",
      "*  Static image posts receive the lowest average engagement.\n",
      "\n",
      "\n"
     ]
    }
   ],
   "execution_count": 73
  },
  {
   "metadata": {},
   "cell_type": "code",
   "outputs": [],
   "execution_count": null,
   "source": "",
   "id": "f1c18e7ac18211ac"
  }
 ],
 "metadata": {
  "kernelspec": {
   "display_name": "Python 3",
   "language": "python",
   "name": "python3"
  },
  "language_info": {
   "codemirror_mode": {
    "name": "ipython",
    "version": 2
   },
   "file_extension": ".py",
   "mimetype": "text/x-python",
   "name": "python",
   "nbconvert_exporter": "python",
   "pygments_lexer": "ipython2",
   "version": "2.7.6"
  }
 },
 "nbformat": 4,
 "nbformat_minor": 5
}
